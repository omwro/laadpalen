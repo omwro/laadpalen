{
 "cells": [
  {
   "cell_type": "code",
   "execution_count": 98,
   "id": "ad28acf4",
   "metadata": {},
   "outputs": [],
   "source": [
    "#import packages \n",
    "import pandas as pd\n",
    "import numpy as np\n",
    "import plotly.express as px\n",
    "import matplotlib.pyplot as plt\n",
    "import fuzzywuzzy\n",
    "import seaborn as sns\n",
    "import plotly.graph_objects as go"
   ]
  },
  {
   "cell_type": "code",
   "execution_count": 99,
   "id": "88fe6a59",
   "metadata": {},
   "outputs": [
    {
     "data": {
      "text/html": [
       "<div>\n",
       "<style scoped>\n",
       "    .dataframe tbody tr th:only-of-type {\n",
       "        vertical-align: middle;\n",
       "    }\n",
       "\n",
       "    .dataframe tbody tr th {\n",
       "        vertical-align: top;\n",
       "    }\n",
       "\n",
       "    .dataframe thead th {\n",
       "        text-align: right;\n",
       "    }\n",
       "</style>\n",
       "<table border=\"1\" class=\"dataframe\">\n",
       "  <thead>\n",
       "    <tr style=\"text-align: right;\">\n",
       "      <th></th>\n",
       "      <th>Started</th>\n",
       "      <th>Ended</th>\n",
       "      <th>TotalEnergy</th>\n",
       "      <th>ConnectedTime</th>\n",
       "      <th>ChargeTime</th>\n",
       "      <th>MaxPower</th>\n",
       "    </tr>\n",
       "  </thead>\n",
       "  <tbody>\n",
       "    <tr>\n",
       "      <th>0</th>\n",
       "      <td>2018-01-01 08:45:26</td>\n",
       "      <td>2018-01-01 09:16:45</td>\n",
       "      <td>1830</td>\n",
       "      <td>0.5219</td>\n",
       "      <td>0.5219</td>\n",
       "      <td>3524</td>\n",
       "    </tr>\n",
       "    <tr>\n",
       "      <th>1</th>\n",
       "      <td>2018-01-01 11:26:40</td>\n",
       "      <td>2018-01-01 14:36:13</td>\n",
       "      <td>28641</td>\n",
       "      <td>3.1592</td>\n",
       "      <td>2.3056</td>\n",
       "      <td>13680</td>\n",
       "    </tr>\n",
       "    <tr>\n",
       "      <th>2</th>\n",
       "      <td>2018-01-01 12:39:28</td>\n",
       "      <td>2018-01-01 20:58:10</td>\n",
       "      <td>65534</td>\n",
       "      <td>8.3117</td>\n",
       "      <td>8.3117</td>\n",
       "      <td>11200</td>\n",
       "    </tr>\n",
       "    <tr>\n",
       "      <th>3</th>\n",
       "      <td>2018-01-01 14:26:58</td>\n",
       "      <td>2018-01-02 06:36:55</td>\n",
       "      <td>10080</td>\n",
       "      <td>16.1658</td>\n",
       "      <td>4.3006</td>\n",
       "      <td>3360</td>\n",
       "    </tr>\n",
       "    <tr>\n",
       "      <th>4</th>\n",
       "      <td>2018-01-01 14:50:05</td>\n",
       "      <td>2018-01-01 17:21:50</td>\n",
       "      <td>7180</td>\n",
       "      <td>2.5292</td>\n",
       "      <td>2.0656</td>\n",
       "      <td>3758</td>\n",
       "    </tr>\n",
       "  </tbody>\n",
       "</table>\n",
       "</div>"
      ],
      "text/plain": [
       "               Started                Ended  TotalEnergy  ConnectedTime  \\\n",
       "0  2018-01-01 08:45:26  2018-01-01 09:16:45         1830         0.5219   \n",
       "1  2018-01-01 11:26:40  2018-01-01 14:36:13        28641         3.1592   \n",
       "2  2018-01-01 12:39:28  2018-01-01 20:58:10        65534         8.3117   \n",
       "3  2018-01-01 14:26:58  2018-01-02 06:36:55        10080        16.1658   \n",
       "4  2018-01-01 14:50:05  2018-01-01 17:21:50         7180         2.5292   \n",
       "\n",
       "   ChargeTime  MaxPower  \n",
       "0      0.5219      3524  \n",
       "1      2.3056     13680  \n",
       "2      8.3117     11200  \n",
       "3      4.3006      3360  \n",
       "4      2.0656      3758  "
      ]
     },
     "execution_count": 99,
     "metadata": {},
     "output_type": "execute_result"
    }
   ],
   "source": [
    "paalData = pd.read_csv('laadpaaldata.csv')\n",
    "paalData.head()"
   ]
  },
  {
   "cell_type": "code",
   "execution_count": 100,
   "id": "8d490ff4",
   "metadata": {},
   "outputs": [
    {
     "data": {
      "text/plain": [
       "(10188, 6)"
      ]
     },
     "execution_count": 100,
     "metadata": {},
     "output_type": "execute_result"
    }
   ],
   "source": [
    "paalData.shape"
   ]
  },
  {
   "cell_type": "code",
   "execution_count": 101,
   "id": "f79cf7a5",
   "metadata": {},
   "outputs": [
    {
     "data": {
      "text/plain": [
       "Started          0\n",
       "Ended            0\n",
       "TotalEnergy      0\n",
       "ConnectedTime    0\n",
       "ChargeTime       0\n",
       "MaxPower         0\n",
       "dtype: int64"
      ]
     },
     "execution_count": 101,
     "metadata": {},
     "output_type": "execute_result"
    }
   ],
   "source": [
    "paalData.isna().sum()"
   ]
  },
  {
   "cell_type": "code",
   "execution_count": 102,
   "id": "0335cded",
   "metadata": {},
   "outputs": [
    {
     "data": {
      "image/png": "[encoded data removed]",
      "text/plain": [
       "<Figure size 432x288 with 1 Axes>"
      ]
     },
     "metadata": {
      "needs_background": "light"
     },
     "output_type": "display_data"
    }
   ],
   "source": [
    "plt.figure()\n",
    "sns.scatterplot(x='ChargeTime',y='ConnectedTime',data=paalData)\n",
    "plt.show()"
   ]
  },
  {
   "cell_type": "code",
   "execution_count": 103,
   "id": "5c8b28ab",
   "metadata": {
    "scrolled": false
   },
   "outputs": [
    {
     "name": "stdout",
     "output_type": "stream",
     "text": [
      "                  Started                Ended  TotalEnergy  ConnectedTime  \\\n",
      "941   2018-01-31 19:48:14  2018-02-01 06:30:30        10930        10.7044   \n",
      "942   2018-01-31 20:14:09  2018-02-01 11:15:45         9152        15.0267   \n",
      "1724  2018-02-28 17:28:20  2018-03-01 14:02:02        18876        20.5617   \n",
      "3480  2018-04-30 22:55:49  2018-05-01 07:41:45         9740         8.7656   \n",
      "4270  2018-05-31 19:43:03  2018-06-01 06:59:43        36570        11.2778   \n",
      "4271  2018-05-31 20:14:40  2018-06-01 07:11:07        35750        10.9408   \n",
      "5079  2018-06-30 21:50:30  2018-07-01 09:43:00        55540        11.8750   \n",
      "5792  2018-07-31 18:50:37  2018-08-01 07:43:16        60860        12.8775   \n",
      "5795  2018-07-31 21:09:01  2018-08-01 06:41:10        12182         9.5358   \n",
      "8316  2018-10-31 18:32:04  2018-11-01 08:08:22        68440        13.6050   \n",
      "\n",
      "      ChargeTime  MaxPower  \n",
      "941     -738.796      3240  \n",
      "942     -739.989      3230  \n",
      "1724    -665.250      3256  \n",
      "3480    -716.180      3360  \n",
      "4270    -738.968      7769  \n",
      "4271    -739.745      8710  \n",
      "5079    -714.516     10635  \n",
      "5792    -738.018     10664  \n",
      "5795    -740.250      3319  \n",
      "8316    -736.645     11360  \n"
     ]
    },
    {
     "data": {
      "text/plain": [
       "(10, 6)"
      ]
     },
     "execution_count": 103,
     "metadata": {},
     "output_type": "execute_result"
    }
   ],
   "source": [
    "fout1 = paalData[paalData['ChargeTime'] < 0]\n",
    "print(fout1)\n",
    "fout1.shape"
   ]
  },
  {
   "cell_type": "code",
   "execution_count": 104,
   "id": "c25d3040",
   "metadata": {},
   "outputs": [],
   "source": [
    "#Filter paalData outliers\n",
    "paalData = paalData[paalData['ChargeTime'] > 0]\n",
    "paalData = paalData[paalData['ChargeTime'] < 10]"
   ]
  },
  {
   "cell_type": "code",
   "execution_count": 105,
   "id": "46bc1f6a",
   "metadata": {},
   "outputs": [
    {
     "data": {
      "text/html": [
       "<div>\n",
       "<style scoped>\n",
       "    .dataframe tbody tr th:only-of-type {\n",
       "        vertical-align: middle;\n",
       "    }\n",
       "\n",
       "    .dataframe tbody tr th {\n",
       "        vertical-align: top;\n",
       "    }\n",
       "\n",
       "    .dataframe thead th {\n",
       "        text-align: right;\n",
       "    }\n",
       "</style>\n",
       "<table border=\"1\" class=\"dataframe\">\n",
       "  <thead>\n",
       "    <tr style=\"text-align: right;\">\n",
       "      <th></th>\n",
       "      <th>Started</th>\n",
       "      <th>Ended</th>\n",
       "      <th>TotalEnergy</th>\n",
       "      <th>ConnectedTime</th>\n",
       "      <th>ChargeTime</th>\n",
       "      <th>MaxPower</th>\n",
       "      <th>ConnectedTimeMin</th>\n",
       "      <th>ChargeTimeMin</th>\n",
       "      <th>VermogenTotaal</th>\n",
       "    </tr>\n",
       "  </thead>\n",
       "  <tbody>\n",
       "    <tr>\n",
       "      <th>0</th>\n",
       "      <td>2018-01-01 08:45:26</td>\n",
       "      <td>2018-01-01 09:16:45</td>\n",
       "      <td>1830</td>\n",
       "      <td>0.5219</td>\n",
       "      <td>0.5219</td>\n",
       "      <td>3524</td>\n",
       "      <td>31.314</td>\n",
       "      <td>31.314</td>\n",
       "      <td>3506.418854</td>\n",
       "    </tr>\n",
       "    <tr>\n",
       "      <th>1</th>\n",
       "      <td>2018-01-01 11:26:40</td>\n",
       "      <td>2018-01-01 14:36:13</td>\n",
       "      <td>28641</td>\n",
       "      <td>3.1592</td>\n",
       "      <td>2.3056</td>\n",
       "      <td>13680</td>\n",
       "      <td>189.552</td>\n",
       "      <td>138.336</td>\n",
       "      <td>12422.362942</td>\n",
       "    </tr>\n",
       "    <tr>\n",
       "      <th>2</th>\n",
       "      <td>2018-01-01 12:39:28</td>\n",
       "      <td>2018-01-01 20:58:10</td>\n",
       "      <td>65534</td>\n",
       "      <td>8.3117</td>\n",
       "      <td>8.3117</td>\n",
       "      <td>11200</td>\n",
       "      <td>498.702</td>\n",
       "      <td>498.702</td>\n",
       "      <td>7884.548287</td>\n",
       "    </tr>\n",
       "    <tr>\n",
       "      <th>3</th>\n",
       "      <td>2018-01-01 14:26:58</td>\n",
       "      <td>2018-01-02 06:36:55</td>\n",
       "      <td>10080</td>\n",
       "      <td>16.1658</td>\n",
       "      <td>4.3006</td>\n",
       "      <td>3360</td>\n",
       "      <td>969.948</td>\n",
       "      <td>258.036</td>\n",
       "      <td>2343.858996</td>\n",
       "    </tr>\n",
       "    <tr>\n",
       "      <th>4</th>\n",
       "      <td>2018-01-01 14:50:05</td>\n",
       "      <td>2018-01-01 17:21:50</td>\n",
       "      <td>7180</td>\n",
       "      <td>2.5292</td>\n",
       "      <td>2.0656</td>\n",
       "      <td>3758</td>\n",
       "      <td>151.752</td>\n",
       "      <td>123.936</td>\n",
       "      <td>3475.987607</td>\n",
       "    </tr>\n",
       "  </tbody>\n",
       "</table>\n",
       "</div>"
      ],
      "text/plain": [
       "               Started                Ended  TotalEnergy  ConnectedTime  \\\n",
       "0  2018-01-01 08:45:26  2018-01-01 09:16:45         1830         0.5219   \n",
       "1  2018-01-01 11:26:40  2018-01-01 14:36:13        28641         3.1592   \n",
       "2  2018-01-01 12:39:28  2018-01-01 20:58:10        65534         8.3117   \n",
       "3  2018-01-01 14:26:58  2018-01-02 06:36:55        10080        16.1658   \n",
       "4  2018-01-01 14:50:05  2018-01-01 17:21:50         7180         2.5292   \n",
       "\n",
       "   ChargeTime  MaxPower  ConnectedTimeMin  ChargeTimeMin  VermogenTotaal  \n",
       "0      0.5219      3524            31.314         31.314     3506.418854  \n",
       "1      2.3056     13680           189.552        138.336    12422.362942  \n",
       "2      8.3117     11200           498.702        498.702     7884.548287  \n",
       "3      4.3006      3360           969.948        258.036     2343.858996  \n",
       "4      2.0656      3758           151.752        123.936     3475.987607  "
      ]
     },
     "execution_count": 105,
     "metadata": {},
     "output_type": "execute_result"
    }
   ],
   "source": [
    "#Voeg kolom toe voor ConnectedTime en ChargeTime in minuten: ConnectedTimeMin, ChargeTimeMin\n",
    "paalData['ConnectedTimeMin'] = paalData['ConnectedTime'] * 60\n",
    "paalData['ChargeTimeMin'] = paalData['ChargeTime'] * 60\n",
    "\n",
    "#Kolom met totaal verbruikt vermogen toevoegen: VermogenTotaal (in W)\n",
    "paalData['VermogenTotaal'] = paalData['TotalEnergy'] / paalData['ChargeTime']\n",
    "#Filter outlier\n",
    "paalData = paalData[paalData['VermogenTotaal'] < 20000]\n",
    "\n",
    "paalData.head()"
   ]
  },
  {
   "cell_type": "code",
   "execution_count": 106,
   "id": "173995d4",
   "metadata": {},
   "outputs": [
    {
     "data": {
      "text/plain": [
       "TotalEnergy         9378.059362\n",
       "ConnectedTime          6.256658\n",
       "ChargeTime             2.441022\n",
       "MaxPower            4124.526201\n",
       "ConnectedTimeMin     375.399482\n",
       "ChargeTimeMin        146.461325\n",
       "VermogenTotaal      3609.881969\n",
       "dtype: float64"
      ]
     },
     "execution_count": 106,
     "metadata": {},
     "output_type": "execute_result"
    }
   ],
   "source": [
    "#Data van een gemiddelde bezetting van een laadpaal\n",
    "paalData.mean()"
   ]
  },
  {
   "cell_type": "code",
   "execution_count": null,
   "id": "9568008f",
   "metadata": {},
   "outputs": [],
   "source": []
  },
  {
   "cell_type": "code",
   "execution_count": null,
   "id": "92928af8",
   "metadata": {
    "scrolled": true
   },
   "outputs": [],
   "source": []
  },
  {
   "cell_type": "code",
   "execution_count": null,
   "id": "149e84b3",
   "metadata": {},
   "outputs": [],
   "source": []
  },
  {
   "cell_type": "code",
   "execution_count": null,
   "id": "ecfdf0ac",
   "metadata": {},
   "outputs": [],
   "source": []
  },
  {
   "cell_type": "code",
   "execution_count": null,
   "id": "0b80cff4",
   "metadata": {},
   "outputs": [],
   "source": []
  },
  {
   "cell_type": "code",
   "execution_count": null,
   "id": "818c3593",
   "metadata": {},
   "outputs": [],
   "source": []
  },
  {
   "cell_type": "code",
   "execution_count": null,
   "id": "db93b83d",
   "metadata": {},
   "outputs": [],
   "source": []
  },
  {
   "cell_type": "code",
   "execution_count": null,
   "id": "f240ec6d",
   "metadata": {},
   "outputs": [],
   "source": []
  },
  {
   "cell_type": "code",
   "execution_count": null,
   "id": "8a70f198",
   "metadata": {},
   "outputs": [],
   "source": []
  },
  {
   "cell_type": "code",
   "execution_count": null,
   "id": "02480db3",
   "metadata": {},
   "outputs": [],
   "source": []
  },
  {
   "cell_type": "code",
   "execution_count": null,
   "id": "9740a641",
   "metadata": {},
   "outputs": [],
   "source": []
  },
  {
   "cell_type": "code",
   "execution_count": null,
   "id": "5f00a825",
   "metadata": {},
   "outputs": [],
   "source": []
  }
 ],
 "metadata": {
  "kernelspec": {
   "display_name": "Python (base)",
   "language": "python",
   "name": "base"
  },
  "language_info": {
   "codemirror_mode": {
    "name": "ipython",
    "version": 3
   },
   "file_extension": ".py",
   "mimetype": "text/x-python",
   "name": "python",
   "nbconvert_exporter": "python",
   "pygments_lexer": "ipython3",
   "version": "3.8.8"
  }
 },
 "nbformat": 4,
 "nbformat_minor": 5
}
