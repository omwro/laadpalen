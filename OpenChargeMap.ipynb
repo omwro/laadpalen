{
 "cells": [
  {
   "cell_type": "markdown",
   "source": [
    "### Bibliotheken importeren"
   ],
   "metadata": {
    "collapsed": false,
    "pycharm": {
     "name": "#%% md\n"
    }
   }
  },
  {
   "cell_type": "code",
   "execution_count": 160,
   "metadata": {
    "collapsed": true
   },
   "outputs": [],
   "source": [
    "import numpy as np\n",
    "import pandas as pd\n",
    "import requests as req\n",
    "from IPython.display import display\n",
    "from fuzzywuzzy import fuzz"
   ]
  },
  {
   "cell_type": "markdown",
   "source": [
    "### Open Charge Map request"
   ],
   "metadata": {
    "collapsed": false,
    "pycharm": {
     "name": "#%% md\n"
    }
   }
  },
  {
   "cell_type": "code",
   "execution_count": 161,
   "outputs": [],
   "source": [
    "# https://openchargemap.org/site/develop/api\n",
    "api_key = \"bef339a4-319a-4a46-bbbe-a5f13db5bd24\"\n",
    "ocm_url = f\"https://api.openchargemap.io/v3/poi/?output=json&key=${api_key}&countrycode=NL&maxresults=100000\"\n",
    "req_ocm = req.get(ocm_url)"
   ],
   "metadata": {
    "collapsed": false,
    "pycharm": {
     "name": "#%%\n"
    }
   }
  },
  {
   "cell_type": "markdown",
   "source": [
    "### Correct geschreven gemeente en provincie data ophalen"
   ],
   "metadata": {
    "collapsed": false,
    "pycharm": {
     "name": "#%% md\n"
    }
   }
  },
  {
   "cell_type": "code",
   "execution_count": 162,
   "outputs": [
    {
     "data": {
      "text/plain": "   PROVINCIENAAM  GEMEENTENAAM\n0     Gelderland      Nunspeet\n1  Noord-Brabant  Valkenswaard\n2     Overijssel       Wierden\n3     Overijssel   Hengelo (O)\n4     Gelderland        Renkum",
      "text/html": "<div>\n<style scoped>\n    .dataframe tbody tr th:only-of-type {\n        vertical-align: middle;\n    }\n\n    .dataframe tbody tr th {\n        vertical-align: top;\n    }\n\n    .dataframe thead th {\n        text-align: right;\n    }\n</style>\n<table border=\"1\" class=\"dataframe\">\n  <thead>\n    <tr style=\"text-align: right;\">\n      <th></th>\n      <th>PROVINCIENAAM</th>\n      <th>GEMEENTENAAM</th>\n    </tr>\n  </thead>\n  <tbody>\n    <tr>\n      <th>0</th>\n      <td>Gelderland</td>\n      <td>Nunspeet</td>\n    </tr>\n    <tr>\n      <th>1</th>\n      <td>Noord-Brabant</td>\n      <td>Valkenswaard</td>\n    </tr>\n    <tr>\n      <th>2</th>\n      <td>Overijssel</td>\n      <td>Wierden</td>\n    </tr>\n    <tr>\n      <th>3</th>\n      <td>Overijssel</td>\n      <td>Hengelo (O)</td>\n    </tr>\n    <tr>\n      <th>4</th>\n      <td>Gelderland</td>\n      <td>Renkum</td>\n    </tr>\n  </tbody>\n</table>\n</div>"
     },
     "execution_count": 162,
     "metadata": {},
     "output_type": "execute_result"
    }
   ],
   "source": [
    "# https://download.geoportaaloverijssel.nl/download/vector/6be88637-f10f-44a4-aa5c-fc8c0f857620\n",
    "df_gp = pd.read_csv('Grenzen_van_alle_Nederlandse_gemeenten_en_provincies.csv')\n",
    "df_gp = df_gp[['PROVINCIENAAM', 'GEMEENTENAAM']]\n",
    "df_gp.head()"
   ],
   "metadata": {
    "collapsed": false,
    "pycharm": {
     "name": "#%%\n"
    }
   }
  },
  {
   "cell_type": "markdown",
   "source": [
    "### Data Tabel"
   ],
   "metadata": {
    "collapsed": false
   }
  },
  {
   "cell_type": "code",
   "execution_count": 163,
   "outputs": [
    {
     "data": {
      "text/plain": "  UserComments PercentageSimilarity                                                                                                                                                                                                                                                                                                                                                                                                                                                                                                                                                                                                                                                                                                                                                                                                                                                                                                                                                                                                                                                                                                                                                  MediaItems  IsRecentlyVerified      DateLastVerified      ID                                  UUID ParentChargePointID  DataProviderID DataProvidersReference  OperatorID OperatorsReference  UsageTypeID  UsageCost                                                                                                                                                                                                                                                                                                                                                                                                                                                                                                                                                                                                                                                                                                                                                                                                                                                                                                                                                                                                                                      Connections  NumberOfPoints GeneralComments DatePlanned DateLastConfirmed  StatusTypeID  DateLastStatusUpdate MetadataValues  DataQualityLevel           DateCreated  SubmissionStatusTypeID   DataProvider.WebsiteURL DataProvider.Comments  DataProvider.DataProviderStatusType.IsProviderEnabled  DataProvider.DataProviderStatusType.ID DataProvider.DataProviderStatusType.Title  DataProvider.IsRestrictedEdit  DataProvider.IsOpenDataLicensed  DataProvider.IsApprovedImport                                                                     DataProvider.License DataProvider.DateLastImported  DataProvider.ID            DataProvider.Title OperatorInfo.WebsiteURL OperatorInfo.Comments OperatorInfo.PhonePrimaryContact OperatorInfo.PhoneSecondaryContact OperatorInfo.IsPrivateIndividual  OperatorInfo.AddressInfo  OperatorInfo.BookingURL OperatorInfo.ContactEmail OperatorInfo.FaultReportEmail OperatorInfo.IsRestrictedEdit  OperatorInfo.ID  OperatorInfo.Title UsageType.IsPayAtLocation UsageType.IsMembershipRequired UsageType.IsAccessKeyRequired  UsageType.ID                             UsageType.Title StatusType.IsOperational  StatusType.IsUserSelectable  StatusType.ID StatusType.Title  SubmissionStatus.IsLive  SubmissionStatus.ID SubmissionStatus.Title  AddressInfo.ID       AddressInfo.Title AddressInfo.AddressLine1 AddressInfo.AddressLine2 AddressInfo.Town AddressInfo.StateOrProvince AddressInfo.Postcode  AddressInfo.CountryID AddressInfo.Country.ISOCode AddressInfo.Country.ContinentCode  AddressInfo.Country.ID AddressInfo.Country.Title  AddressInfo.Latitude  AddressInfo.Longitude AddressInfo.ContactTelephone1 AddressInfo.ContactTelephone2 AddressInfo.ContactEmail AddressInfo.AccessComments AddressInfo.RelatedURL AddressInfo.Distance  AddressInfo.DistanceUnit  OperatorInfo  UsageType\n0         None                 None                                                                                                                                                                                                                                                                                                                                                                                                                                                                                                                                                                                                                                                                                                                                                                                                                                                                                                                                                                                                                                                                                                                                                        None                True  2021-10-09T13:59:00Z  189532  73B33652-1C0B-4637-ACF7-8FCEF205DA94                None               1                   None       179.0               None          4.0       None  [{'ID': 306581, 'ConnectionTypeID': 2, 'ConnectionType': {'FormalName': 'IEC 62196-3 Configuration AA', 'IsDiscontinued': None, 'IsObsolete': None, 'ID': 2, 'Title': 'CHAdeMO'}, 'Reference': None, 'StatusTypeID': 50, 'StatusType': {'IsOperational': True, 'IsUserSelectable': True, 'ID': 50, 'Title': 'Operational'}, 'LevelID': None, 'Level': None, 'Amps': None, 'Voltage': None, 'PowerKW': None, 'CurrentTypeID': 30, 'CurrentType': {'Description': 'Direct Current', 'ID': 30, 'Title': 'DC'}, 'Quantity': 1, 'Comments': None}, {'ID': 306582, 'ConnectionTypeID': 33, 'ConnectionType': {'FormalName': 'IEC 62196-3 Configuration FF', 'IsDiscontinued': False, 'IsObsolete': False, 'ID': 33, 'Title': 'CCS (Type 2)'}, 'Reference': None, 'StatusTypeID': 50, 'StatusType': {'IsOperational': True, 'IsUserSelectable': True, 'ID': 50, 'Title': 'Operational'}, 'LevelID': None, 'Level': None, 'Amps': None, 'Voltage': None, 'PowerKW': None, 'CurrentTypeID': None, 'CurrentType': None, 'Quantity': 1, 'Comments': None}]             2.0            None        None              None            50  2021-10-09T20:38:00Z           None               1.0  2021-10-09T13:59:00Z                     200  http://openchargemap.org                  None                                                   True                                       1                         Manual Data Entry                          False                             True                           True  Licensed under Creative Commons Attribution-ShareAlike 4.0 International (CC BY-SA 4.0)                          None                1  Open Charge Map Contributors   http://www.ecotap.nl/                  None                             None                               None                            False                       NaN                      NaN                      None                          None                         False            179.0              Ecotap                     False                           True                          True           4.0                Public - Membership Required                     True                         True             50      Operational                     True                  200   Submission Published          189891             Handelskade              Handelskade                     None          Zutphen                  Gelderland               7202CD                    159                          NL                                EU                     159               Netherlands             52.154843               6.201008                          None                          None                     None                       None                   None                 None                         0           NaN        NaN\n1         None                 None                                                                                                                                                                                                                                                                                                                                                                                                                                                                                                                                                                                                                                                                                                                                                                                                                                                                                                                                                                                                                                                                                                                                                        None                True  2021-09-12T10:30:00Z  189190  BBAB6AAE-16AC-4D71-B89C-C7EDEACFCA21                None               1                   None       103.0               None          4.0  €0,37/kWh                                                                                                                                                                                                                                                                                                                [{'ID': 305875, 'ConnectionTypeID': 25, 'ConnectionType': {'FormalName': 'IEC 62196-2 Type 2', 'IsDiscontinued': False, 'IsObsolete': False, 'ID': 25, 'Title': 'Type 2 (Socket Only)'}, 'Reference': 'NLALLEGO011633', 'StatusTypeID': 50, 'StatusType': {'IsOperational': True, 'IsUserSelectable': True, 'ID': 50, 'Title': 'Operational'}, 'LevelID': 2, 'Level': {'Comments': 'Over 2 kW, usually non-domestic socket type', 'IsFastChargeCapable': False, 'ID': 2, 'Title': 'Level 2 : Medium (Over 2kW)'}, 'Amps': 16, 'Voltage': 400, 'PowerKW': 11.0, 'CurrentTypeID': 20, 'CurrentType': {'Description': 'Alternating Current - Three Phase', 'ID': 20, 'Title': 'AC (Three-Phase)'}, 'Quantity': 2, 'Comments': None}]             2.0            None        None              None            50  2021-09-13T14:03:00Z           None               1.0  2021-09-12T10:30:00Z                     200  http://openchargemap.org                  None                                                   True                                       1                         Manual Data Entry                          False                             True                           True  Licensed under Creative Commons Attribution-ShareAlike 4.0 International (CC BY-SA 4.0)                          None                1  Open Charge Map Contributors   http://www.allego.eu/                  None                             None                               None                            False                       NaN                      NaN            info@allego.eu                          None                         False            103.0           Allego BV                     False                           True                          True           4.0                Public - Membership Required                     True                         True             50      Operational                     True                  200   Submission Published          189549           Kagerdreef 90            Kagerdreef 90                     None        Teylingen               South Holland               2172HM                    159                          NL                                EU                     159               Netherlands             52.220917               4.531350                          None                          None                     None                       None                   None                 None                         0           NaN        NaN\n2         None                 None                                                                                                                                                                                                                                                                                                                                                                                                                                                                                                                                                                                                                                                                                                                                                                                                                                                                                                                                                                                                                                                                                                                                                        None                True  2021-09-08T05:15:00Z  189106  5B34587A-4418-4D6B-9D34-756A0042E8F8                None               1                   None         1.0               None          4.0       None                                                                                                                                                                                                                                                                                                                                                                                                                                                                                                                                                 [{'ID': 305711, 'ConnectionTypeID': 25, 'ConnectionType': {'FormalName': 'IEC 62196-2 Type 2', 'IsDiscontinued': False, 'IsObsolete': False, 'ID': 25, 'Title': 'Type 2 (Socket Only)'}, 'Reference': None, 'StatusTypeID': 50, 'StatusType': {'IsOperational': True, 'IsUserSelectable': True, 'ID': 50, 'Title': 'Operational'}, 'LevelID': None, 'Level': None, 'Amps': None, 'Voltage': None, 'PowerKW': None, 'CurrentTypeID': None, 'CurrentType': None, 'Quantity': 1, 'Comments': None}]             1.0            None        None              None            50  2021-09-11T05:23:00Z           None               1.0  2021-09-08T05:15:00Z                     200  http://openchargemap.org                  None                                                   True                                       1                         Manual Data Entry                          False                             True                           True  Licensed under Creative Commons Attribution-ShareAlike 4.0 International (CC BY-SA 4.0)                          None                1  Open Charge Map Contributors                    None                  None                             None                               None                             None                       NaN                      NaN                      None                          None                          None              1.0  (Unknown Operator)                     False                           True                          True           4.0                Public - Membership Required                     True                         True             50      Operational                     True                  200   Submission Published          189465                     Pap    Pastoor Linssenstraat                     None           Velden                     Limburg               5941CN                    159                          NL                                EU                     159               Netherlands             51.411700               6.167800                          None                          None                     None                       None                   None                 None                         0           NaN        NaN\n3         None                 None                                                                                                                                                                                                                                                                                                                                                                                                                                                                                                                                                                                                                                                                                                                                                                                                                                                                                                                                                                                                                                                                                                                                                        None                True  2021-08-18T21:31:00Z  188817  D43CBE9D-1963-4546-A410-EE52D04C61AC                None               1                   None       103.0               None          1.0       None                                                                                                                                                                                                                                                                                                                            [{'ID': 305075, 'ConnectionTypeID': 25, 'ConnectionType': {'FormalName': 'IEC 62196-2 Type 2', 'IsDiscontinued': False, 'IsObsolete': False, 'ID': 25, 'Title': 'Type 2 (Socket Only)'}, 'Reference': None, 'StatusTypeID': 50, 'StatusType': {'IsOperational': True, 'IsUserSelectable': True, 'ID': 50, 'Title': 'Operational'}, 'LevelID': 2, 'Level': {'Comments': 'Over 2 kW, usually non-domestic socket type', 'IsFastChargeCapable': False, 'ID': 2, 'Title': 'Level 2 : Medium (Over 2kW)'}, 'Amps': 16, 'Voltage': 400, 'PowerKW': 11.0, 'CurrentTypeID': 20, 'CurrentType': {'Description': 'Alternating Current - Three Phase', 'ID': 20, 'Title': 'AC (Three-Phase)'}, 'Quantity': 2, 'Comments': None}]             1.0            None        None              None            50  2021-08-18T21:31:00Z           None               1.0  2021-08-18T21:31:00Z                     200  http://openchargemap.org                  None                                                   True                                       1                         Manual Data Entry                          False                             True                           True  Licensed under Creative Commons Attribution-ShareAlike 4.0 International (CC BY-SA 4.0)                          None                1  Open Charge Map Contributors   http://www.allego.eu/                  None                             None                               None                            False                       NaN                      NaN            info@allego.eu                          None                         False            103.0           Allego BV                      None                           None                          None           1.0                                      Public                     True                         True             50      Operational                     True                  200   Submission Published          189176          Parelstraat 12           Parelstraat 12                     None              Ede                  Gelderland               6713TG                    159                          NL                                EU                     159               Netherlands             52.042242               5.665901                          None                          None                     None                       None                   None                 None                         0           NaN        NaN\n4         None                 None  [{'ID': 29040, 'ChargePointID': 188816, 'ItemURL': 'https://s3-ap-southeast-2.amazonaws.com/openchargemap/images/NL/OCM188816/OCM-188816.orig.2021082008155140.jpg', 'ItemThumbnailURL': 'https://s3-ap-southeast-2.amazonaws.com/openchargemap/images/NL/OCM188816/OCM-188816.thmb.2021082008155140.jpg', 'Comment': '', 'IsEnabled': True, 'IsVideo': False, 'IsFeaturedItem': False, 'IsExternalResource': False, 'MetadataValue': None, 'User': {'ID': 6216, 'IdentityProvider': None, 'Identifier': None, 'CurrentSessionToken': None, 'Username': 'Sordone', 'Profile': None, 'Location': None, 'WebsiteURL': None, 'ReputationPoints': 98, 'Permissions': None, 'PermissionsRequested': None, 'DateCreated': None, 'DateLastLogin': None, 'IsProfilePublic': None, 'IsEmergencyChargingProvider': None, 'IsPublicChargingProvider': None, 'Latitude': None, 'Longitude': None, 'EmailAddress': None, 'EmailHash': None, 'ProfileImageURL': 'https://www.gravatar.com/avatar/d3cd7b9009798b5b31638000961cfd0e?s=80&d=robohash', 'IsCurrentSessionTokenValid': None, 'APIKey': None, 'SyncedSettings': None}, 'DateCreated': '2021-08-20T08:16:00Z'}]                True  2021-08-18T21:26:00Z  188816  76955845-FC85-4E73-8A9B-04FC523D2B2F                None               1                   None         1.0               None          6.0       None                                                                                                                                                                                                                                                                                                                         [{'ID': 305074, 'ConnectionTypeID': 25, 'ConnectionType': {'FormalName': 'IEC 62196-2 Type 2', 'IsDiscontinued': False, 'IsObsolete': False, 'ID': 25, 'Title': 'Type 2 (Socket Only)'}, 'Reference': None, 'StatusTypeID': 50, 'StatusType': {'IsOperational': True, 'IsUserSelectable': True, 'ID': 50, 'Title': 'Operational'}, 'LevelID': 2, 'Level': {'Comments': 'Over 2 kW, usually non-domestic socket type', 'IsFastChargeCapable': False, 'ID': 2, 'Title': 'Level 2 : Medium (Over 2kW)'}, 'Amps': None, 'Voltage': None, 'PowerKW': 11.0, 'CurrentTypeID': 20, 'CurrentType': {'Description': 'Alternating Current - Three Phase', 'ID': 20, 'Title': 'AC (Three-Phase)'}, 'Quantity': 2, 'Comments': None}]             2.0            None        None              None            50  2021-08-20T08:16:00Z           None               1.0  2021-08-18T21:26:00Z                     200  http://openchargemap.org                  None                                                   True                                       1                         Manual Data Entry                          False                             True                           True  Licensed under Creative Commons Attribution-ShareAlike 4.0 International (CC BY-SA 4.0)                          None                1  Open Charge Map Contributors                    None                  None                             None                               None                             None                       NaN                      NaN                      None                          None                          None              1.0  (Unknown Operator)                     False                          False                         False           6.0  Private - For Staff, Visitors or Customers                     True                         True             50      Operational                     True                  200   Submission Published          189175  Hendriksen Accountants                Haarweg 3                     None        Tubbergen                        None              7651 KE                    159                          NL                                EU                     159               Netherlands             52.399358               6.783781                          None                          None                     None                       None                   None                 None                         0           NaN        NaN",
      "text/html": "<div>\n<style scoped>\n    .dataframe tbody tr th:only-of-type {\n        vertical-align: middle;\n    }\n\n    .dataframe tbody tr th {\n        vertical-align: top;\n    }\n\n    .dataframe thead th {\n        text-align: right;\n    }\n</style>\n<table border=\"1\" class=\"dataframe\">\n  <thead>\n    <tr style=\"text-align: right;\">\n      <th></th>\n      <th>UserComments</th>\n      <th>PercentageSimilarity</th>\n      <th>MediaItems</th>\n      <th>IsRecentlyVerified</th>\n      <th>DateLastVerified</th>\n      <th>ID</th>\n      <th>UUID</th>\n      <th>ParentChargePointID</th>\n      <th>DataProviderID</th>\n      <th>DataProvidersReference</th>\n      <th>OperatorID</th>\n      <th>OperatorsReference</th>\n      <th>UsageTypeID</th>\n      <th>UsageCost</th>\n      <th>Connections</th>\n      <th>NumberOfPoints</th>\n      <th>GeneralComments</th>\n      <th>DatePlanned</th>\n      <th>DateLastConfirmed</th>\n      <th>StatusTypeID</th>\n      <th>DateLastStatusUpdate</th>\n      <th>MetadataValues</th>\n      <th>DataQualityLevel</th>\n      <th>DateCreated</th>\n      <th>SubmissionStatusTypeID</th>\n      <th>DataProvider.WebsiteURL</th>\n      <th>DataProvider.Comments</th>\n      <th>DataProvider.DataProviderStatusType.IsProviderEnabled</th>\n      <th>DataProvider.DataProviderStatusType.ID</th>\n      <th>DataProvider.DataProviderStatusType.Title</th>\n      <th>DataProvider.IsRestrictedEdit</th>\n      <th>DataProvider.IsOpenDataLicensed</th>\n      <th>DataProvider.IsApprovedImport</th>\n      <th>DataProvider.License</th>\n      <th>DataProvider.DateLastImported</th>\n      <th>DataProvider.ID</th>\n      <th>DataProvider.Title</th>\n      <th>OperatorInfo.WebsiteURL</th>\n      <th>OperatorInfo.Comments</th>\n      <th>OperatorInfo.PhonePrimaryContact</th>\n      <th>OperatorInfo.PhoneSecondaryContact</th>\n      <th>OperatorInfo.IsPrivateIndividual</th>\n      <th>OperatorInfo.AddressInfo</th>\n      <th>OperatorInfo.BookingURL</th>\n      <th>OperatorInfo.ContactEmail</th>\n      <th>OperatorInfo.FaultReportEmail</th>\n      <th>OperatorInfo.IsRestrictedEdit</th>\n      <th>OperatorInfo.ID</th>\n      <th>OperatorInfo.Title</th>\n      <th>UsageType.IsPayAtLocation</th>\n      <th>UsageType.IsMembershipRequired</th>\n      <th>UsageType.IsAccessKeyRequired</th>\n      <th>UsageType.ID</th>\n      <th>UsageType.Title</th>\n      <th>StatusType.IsOperational</th>\n      <th>StatusType.IsUserSelectable</th>\n      <th>StatusType.ID</th>\n      <th>StatusType.Title</th>\n      <th>SubmissionStatus.IsLive</th>\n      <th>SubmissionStatus.ID</th>\n      <th>SubmissionStatus.Title</th>\n      <th>AddressInfo.ID</th>\n      <th>AddressInfo.Title</th>\n      <th>AddressInfo.AddressLine1</th>\n      <th>AddressInfo.AddressLine2</th>\n      <th>AddressInfo.Town</th>\n      <th>AddressInfo.StateOrProvince</th>\n      <th>AddressInfo.Postcode</th>\n      <th>AddressInfo.CountryID</th>\n      <th>AddressInfo.Country.ISOCode</th>\n      <th>AddressInfo.Country.ContinentCode</th>\n      <th>AddressInfo.Country.ID</th>\n      <th>AddressInfo.Country.Title</th>\n      <th>AddressInfo.Latitude</th>\n      <th>AddressInfo.Longitude</th>\n      <th>AddressInfo.ContactTelephone1</th>\n      <th>AddressInfo.ContactTelephone2</th>\n      <th>AddressInfo.ContactEmail</th>\n      <th>AddressInfo.AccessComments</th>\n      <th>AddressInfo.RelatedURL</th>\n      <th>AddressInfo.Distance</th>\n      <th>AddressInfo.DistanceUnit</th>\n      <th>OperatorInfo</th>\n      <th>UsageType</th>\n    </tr>\n  </thead>\n  <tbody>\n    <tr>\n      <th>0</th>\n      <td>None</td>\n      <td>None</td>\n      <td>None</td>\n      <td>True</td>\n      <td>2021-10-09T13:59:00Z</td>\n      <td>189532</td>\n      <td>73B33652-1C0B-4637-ACF7-8FCEF205DA94</td>\n      <td>None</td>\n      <td>1</td>\n      <td>None</td>\n      <td>179.0</td>\n      <td>None</td>\n      <td>4.0</td>\n      <td>None</td>\n      <td>[{'ID': 306581, 'ConnectionTypeID': 2, 'ConnectionType': {'FormalName': 'IEC 62196-3 Configuration AA', 'IsDiscontinued': None, 'IsObsolete': None, 'ID': 2, 'Title': 'CHAdeMO'}, 'Reference': None, 'StatusTypeID': 50, 'StatusType': {'IsOperational': True, 'IsUserSelectable': True, 'ID': 50, 'Title': 'Operational'}, 'LevelID': None, 'Level': None, 'Amps': None, 'Voltage': None, 'PowerKW': None, 'CurrentTypeID': 30, 'CurrentType': {'Description': 'Direct Current', 'ID': 30, 'Title': 'DC'}, 'Quantity': 1, 'Comments': None}, {'ID': 306582, 'ConnectionTypeID': 33, 'ConnectionType': {'FormalName': 'IEC 62196-3 Configuration FF', 'IsDiscontinued': False, 'IsObsolete': False, 'ID': 33, 'Title': 'CCS (Type 2)'}, 'Reference': None, 'StatusTypeID': 50, 'StatusType': {'IsOperational': True, 'IsUserSelectable': True, 'ID': 50, 'Title': 'Operational'}, 'LevelID': None, 'Level': None, 'Amps': None, 'Voltage': None, 'PowerKW': None, 'CurrentTypeID': None, 'CurrentType': None, 'Quantity': 1, 'Comments': None}]</td>\n      <td>2.0</td>\n      <td>None</td>\n      <td>None</td>\n      <td>None</td>\n      <td>50</td>\n      <td>2021-10-09T20:38:00Z</td>\n      <td>None</td>\n      <td>1.0</td>\n      <td>2021-10-09T13:59:00Z</td>\n      <td>200</td>\n      <td>http://openchargemap.org</td>\n      <td>None</td>\n      <td>True</td>\n      <td>1</td>\n      <td>Manual Data Entry</td>\n      <td>False</td>\n      <td>True</td>\n      <td>True</td>\n      <td>Licensed under Creative Commons Attribution-ShareAlike 4.0 International (CC BY-SA 4.0)</td>\n      <td>None</td>\n      <td>1</td>\n      <td>Open Charge Map Contributors</td>\n      <td>http://www.ecotap.nl/</td>\n      <td>None</td>\n      <td>None</td>\n      <td>None</td>\n      <td>False</td>\n      <td>NaN</td>\n      <td>NaN</td>\n      <td>None</td>\n      <td>None</td>\n      <td>False</td>\n      <td>179.0</td>\n      <td>Ecotap</td>\n      <td>False</td>\n      <td>True</td>\n      <td>True</td>\n      <td>4.0</td>\n      <td>Public - Membership Required</td>\n      <td>True</td>\n      <td>True</td>\n      <td>50</td>\n      <td>Operational</td>\n      <td>True</td>\n      <td>200</td>\n      <td>Submission Published</td>\n      <td>189891</td>\n      <td>Handelskade</td>\n      <td>Handelskade</td>\n      <td>None</td>\n      <td>Zutphen</td>\n      <td>Gelderland</td>\n      <td>7202CD</td>\n      <td>159</td>\n      <td>NL</td>\n      <td>EU</td>\n      <td>159</td>\n      <td>Netherlands</td>\n      <td>52.154843</td>\n      <td>6.201008</td>\n      <td>None</td>\n      <td>None</td>\n      <td>None</td>\n      <td>None</td>\n      <td>None</td>\n      <td>None</td>\n      <td>0</td>\n      <td>NaN</td>\n      <td>NaN</td>\n    </tr>\n    <tr>\n      <th>1</th>\n      <td>None</td>\n      <td>None</td>\n      <td>None</td>\n      <td>True</td>\n      <td>2021-09-12T10:30:00Z</td>\n      <td>189190</td>\n      <td>BBAB6AAE-16AC-4D71-B89C-C7EDEACFCA21</td>\n      <td>None</td>\n      <td>1</td>\n      <td>None</td>\n      <td>103.0</td>\n      <td>None</td>\n      <td>4.0</td>\n      <td>€0,37/kWh</td>\n      <td>[{'ID': 305875, 'ConnectionTypeID': 25, 'ConnectionType': {'FormalName': 'IEC 62196-2 Type 2', 'IsDiscontinued': False, 'IsObsolete': False, 'ID': 25, 'Title': 'Type 2 (Socket Only)'}, 'Reference': 'NLALLEGO011633', 'StatusTypeID': 50, 'StatusType': {'IsOperational': True, 'IsUserSelectable': True, 'ID': 50, 'Title': 'Operational'}, 'LevelID': 2, 'Level': {'Comments': 'Over 2 kW, usually non-domestic socket type', 'IsFastChargeCapable': False, 'ID': 2, 'Title': 'Level 2 : Medium (Over 2kW)'}, 'Amps': 16, 'Voltage': 400, 'PowerKW': 11.0, 'CurrentTypeID': 20, 'CurrentType': {'Description': 'Alternating Current - Three Phase', 'ID': 20, 'Title': 'AC (Three-Phase)'}, 'Quantity': 2, 'Comments': None}]</td>\n      <td>2.0</td>\n      <td>None</td>\n      <td>None</td>\n      <td>None</td>\n      <td>50</td>\n      <td>2021-09-13T14:03:00Z</td>\n      <td>None</td>\n      <td>1.0</td>\n      <td>2021-09-12T10:30:00Z</td>\n      <td>200</td>\n      <td>http://openchargemap.org</td>\n      <td>None</td>\n      <td>True</td>\n      <td>1</td>\n      <td>Manual Data Entry</td>\n      <td>False</td>\n      <td>True</td>\n      <td>True</td>\n      <td>Licensed under Creative Commons Attribution-ShareAlike 4.0 International (CC BY-SA 4.0)</td>\n      <td>None</td>\n      <td>1</td>\n      <td>Open Charge Map Contributors</td>\n      <td>http://www.allego.eu/</td>\n      <td>None</td>\n      <td>None</td>\n      <td>None</td>\n      <td>False</td>\n      <td>NaN</td>\n      <td>NaN</td>\n      <td>info@allego.eu</td>\n      <td>None</td>\n      <td>False</td>\n      <td>103.0</td>\n      <td>Allego BV</td>\n      <td>False</td>\n      <td>True</td>\n      <td>True</td>\n      <td>4.0</td>\n      <td>Public - Membership Required</td>\n      <td>True</td>\n      <td>True</td>\n      <td>50</td>\n      <td>Operational</td>\n      <td>True</td>\n      <td>200</td>\n      <td>Submission Published</td>\n      <td>189549</td>\n      <td>Kagerdreef 90</td>\n      <td>Kagerdreef 90</td>\n      <td>None</td>\n      <td>Teylingen</td>\n      <td>South Holland</td>\n      <td>2172HM</td>\n      <td>159</td>\n      <td>NL</td>\n      <td>EU</td>\n      <td>159</td>\n      <td>Netherlands</td>\n      <td>52.220917</td>\n      <td>4.531350</td>\n      <td>None</td>\n      <td>None</td>\n      <td>None</td>\n      <td>None</td>\n      <td>None</td>\n      <td>None</td>\n      <td>0</td>\n      <td>NaN</td>\n      <td>NaN</td>\n    </tr>\n    <tr>\n      <th>2</th>\n      <td>None</td>\n      <td>None</td>\n      <td>None</td>\n      <td>True</td>\n      <td>2021-09-08T05:15:00Z</td>\n      <td>189106</td>\n      <td>5B34587A-4418-4D6B-9D34-756A0042E8F8</td>\n      <td>None</td>\n      <td>1</td>\n      <td>None</td>\n      <td>1.0</td>\n      <td>None</td>\n      <td>4.0</td>\n      <td>None</td>\n      <td>[{'ID': 305711, 'ConnectionTypeID': 25, 'ConnectionType': {'FormalName': 'IEC 62196-2 Type 2', 'IsDiscontinued': False, 'IsObsolete': False, 'ID': 25, 'Title': 'Type 2 (Socket Only)'}, 'Reference': None, 'StatusTypeID': 50, 'StatusType': {'IsOperational': True, 'IsUserSelectable': True, 'ID': 50, 'Title': 'Operational'}, 'LevelID': None, 'Level': None, 'Amps': None, 'Voltage': None, 'PowerKW': None, 'CurrentTypeID': None, 'CurrentType': None, 'Quantity': 1, 'Comments': None}]</td>\n      <td>1.0</td>\n      <td>None</td>\n      <td>None</td>\n      <td>None</td>\n      <td>50</td>\n      <td>2021-09-11T05:23:00Z</td>\n      <td>None</td>\n      <td>1.0</td>\n      <td>2021-09-08T05:15:00Z</td>\n      <td>200</td>\n      <td>http://openchargemap.org</td>\n      <td>None</td>\n      <td>True</td>\n      <td>1</td>\n      <td>Manual Data Entry</td>\n      <td>False</td>\n      <td>True</td>\n      <td>True</td>\n      <td>Licensed under Creative Commons Attribution-ShareAlike 4.0 International (CC BY-SA 4.0)</td>\n      <td>None</td>\n      <td>1</td>\n      <td>Open Charge Map Contributors</td>\n      <td>None</td>\n      <td>None</td>\n      <td>None</td>\n      <td>None</td>\n      <td>None</td>\n      <td>NaN</td>\n      <td>NaN</td>\n      <td>None</td>\n      <td>None</td>\n      <td>None</td>\n      <td>1.0</td>\n      <td>(Unknown Operator)</td>\n      <td>False</td>\n      <td>True</td>\n      <td>True</td>\n      <td>4.0</td>\n      <td>Public - Membership Required</td>\n      <td>True</td>\n      <td>True</td>\n      <td>50</td>\n      <td>Operational</td>\n      <td>True</td>\n      <td>200</td>\n      <td>Submission Published</td>\n      <td>189465</td>\n      <td>Pap</td>\n      <td>Pastoor Linssenstraat</td>\n      <td>None</td>\n      <td>Velden</td>\n      <td>Limburg</td>\n      <td>5941CN</td>\n      <td>159</td>\n      <td>NL</td>\n      <td>EU</td>\n      <td>159</td>\n      <td>Netherlands</td>\n      <td>51.411700</td>\n      <td>6.167800</td>\n      <td>None</td>\n      <td>None</td>\n      <td>None</td>\n      <td>None</td>\n      <td>None</td>\n      <td>None</td>\n      <td>0</td>\n      <td>NaN</td>\n      <td>NaN</td>\n    </tr>\n    <tr>\n      <th>3</th>\n      <td>None</td>\n      <td>None</td>\n      <td>None</td>\n      <td>True</td>\n      <td>2021-08-18T21:31:00Z</td>\n      <td>188817</td>\n      <td>D43CBE9D-1963-4546-A410-EE52D04C61AC</td>\n      <td>None</td>\n      <td>1</td>\n      <td>None</td>\n      <td>103.0</td>\n      <td>None</td>\n      <td>1.0</td>\n      <td>None</td>\n      <td>[{'ID': 305075, 'ConnectionTypeID': 25, 'ConnectionType': {'FormalName': 'IEC 62196-2 Type 2', 'IsDiscontinued': False, 'IsObsolete': False, 'ID': 25, 'Title': 'Type 2 (Socket Only)'}, 'Reference': None, 'StatusTypeID': 50, 'StatusType': {'IsOperational': True, 'IsUserSelectable': True, 'ID': 50, 'Title': 'Operational'}, 'LevelID': 2, 'Level': {'Comments': 'Over 2 kW, usually non-domestic socket type', 'IsFastChargeCapable': False, 'ID': 2, 'Title': 'Level 2 : Medium (Over 2kW)'}, 'Amps': 16, 'Voltage': 400, 'PowerKW': 11.0, 'CurrentTypeID': 20, 'CurrentType': {'Description': 'Alternating Current - Three Phase', 'ID': 20, 'Title': 'AC (Three-Phase)'}, 'Quantity': 2, 'Comments': None}]</td>\n      <td>1.0</td>\n      <td>None</td>\n      <td>None</td>\n      <td>None</td>\n      <td>50</td>\n      <td>2021-08-18T21:31:00Z</td>\n      <td>None</td>\n      <td>1.0</td>\n      <td>2021-08-18T21:31:00Z</td>\n      <td>200</td>\n      <td>http://openchargemap.org</td>\n      <td>None</td>\n      <td>True</td>\n      <td>1</td>\n      <td>Manual Data Entry</td>\n      <td>False</td>\n      <td>True</td>\n      <td>True</td>\n      <td>Licensed under Creative Commons Attribution-ShareAlike 4.0 International (CC BY-SA 4.0)</td>\n      <td>None</td>\n      <td>1</td>\n      <td>Open Charge Map Contributors</td>\n      <td>http://www.allego.eu/</td>\n      <td>None</td>\n      <td>None</td>\n      <td>None</td>\n      <td>False</td>\n      <td>NaN</td>\n      <td>NaN</td>\n      <td>info@allego.eu</td>\n      <td>None</td>\n      <td>False</td>\n      <td>103.0</td>\n      <td>Allego BV</td>\n      <td>None</td>\n      <td>None</td>\n      <td>None</td>\n      <td>1.0</td>\n      <td>Public</td>\n      <td>True</td>\n      <td>True</td>\n      <td>50</td>\n      <td>Operational</td>\n      <td>True</td>\n      <td>200</td>\n      <td>Submission Published</td>\n      <td>189176</td>\n      <td>Parelstraat 12</td>\n      <td>Parelstraat 12</td>\n      <td>None</td>\n      <td>Ede</td>\n      <td>Gelderland</td>\n      <td>6713TG</td>\n      <td>159</td>\n      <td>NL</td>\n      <td>EU</td>\n      <td>159</td>\n      <td>Netherlands</td>\n      <td>52.042242</td>\n      <td>5.665901</td>\n      <td>None</td>\n      <td>None</td>\n      <td>None</td>\n      <td>None</td>\n      <td>None</td>\n      <td>None</td>\n      <td>0</td>\n      <td>NaN</td>\n      <td>NaN</td>\n    </tr>\n    <tr>\n      <th>4</th>\n      <td>None</td>\n      <td>None</td>\n      <td>[{'ID': 29040, 'ChargePointID': 188816, 'ItemURL': 'https://s3-ap-southeast-2.amazonaws.com/openchargemap/images/NL/OCM188816/OCM-188816.orig.2021082008155140.jpg', 'ItemThumbnailURL': 'https://s3-ap-southeast-2.amazonaws.com/openchargemap/images/NL/OCM188816/OCM-188816.thmb.2021082008155140.jpg', 'Comment': '', 'IsEnabled': True, 'IsVideo': False, 'IsFeaturedItem': False, 'IsExternalResource': False, 'MetadataValue': None, 'User': {'ID': 6216, 'IdentityProvider': None, 'Identifier': None, 'CurrentSessionToken': None, 'Username': 'Sordone', 'Profile': None, 'Location': None, 'WebsiteURL': None, 'ReputationPoints': 98, 'Permissions': None, 'PermissionsRequested': None, 'DateCreated': None, 'DateLastLogin': None, 'IsProfilePublic': None, 'IsEmergencyChargingProvider': None, 'IsPublicChargingProvider': None, 'Latitude': None, 'Longitude': None, 'EmailAddress': None, 'EmailHash': None, 'ProfileImageURL': 'https://www.gravatar.com/avatar/d3cd7b9009798b5b31638000961cfd0e?s=80&amp;d=robohash', 'IsCurrentSessionTokenValid': None, 'APIKey': None, 'SyncedSettings': None}, 'DateCreated': '2021-08-20T08:16:00Z'}]</td>\n      <td>True</td>\n      <td>2021-08-18T21:26:00Z</td>\n      <td>188816</td>\n      <td>76955845-FC85-4E73-8A9B-04FC523D2B2F</td>\n      <td>None</td>\n      <td>1</td>\n      <td>None</td>\n      <td>1.0</td>\n      <td>None</td>\n      <td>6.0</td>\n      <td>None</td>\n      <td>[{'ID': 305074, 'ConnectionTypeID': 25, 'ConnectionType': {'FormalName': 'IEC 62196-2 Type 2', 'IsDiscontinued': False, 'IsObsolete': False, 'ID': 25, 'Title': 'Type 2 (Socket Only)'}, 'Reference': None, 'StatusTypeID': 50, 'StatusType': {'IsOperational': True, 'IsUserSelectable': True, 'ID': 50, 'Title': 'Operational'}, 'LevelID': 2, 'Level': {'Comments': 'Over 2 kW, usually non-domestic socket type', 'IsFastChargeCapable': False, 'ID': 2, 'Title': 'Level 2 : Medium (Over 2kW)'}, 'Amps': None, 'Voltage': None, 'PowerKW': 11.0, 'CurrentTypeID': 20, 'CurrentType': {'Description': 'Alternating Current - Three Phase', 'ID': 20, 'Title': 'AC (Three-Phase)'}, 'Quantity': 2, 'Comments': None}]</td>\n      <td>2.0</td>\n      <td>None</td>\n      <td>None</td>\n      <td>None</td>\n      <td>50</td>\n      <td>2021-08-20T08:16:00Z</td>\n      <td>None</td>\n      <td>1.0</td>\n      <td>2021-08-18T21:26:00Z</td>\n      <td>200</td>\n      <td>http://openchargemap.org</td>\n      <td>None</td>\n      <td>True</td>\n      <td>1</td>\n      <td>Manual Data Entry</td>\n      <td>False</td>\n      <td>True</td>\n      <td>True</td>\n      <td>Licensed under Creative Commons Attribution-ShareAlike 4.0 International (CC BY-SA 4.0)</td>\n      <td>None</td>\n      <td>1</td>\n      <td>Open Charge Map Contributors</td>\n      <td>None</td>\n      <td>None</td>\n      <td>None</td>\n      <td>None</td>\n      <td>None</td>\n      <td>NaN</td>\n      <td>NaN</td>\n      <td>None</td>\n      <td>None</td>\n      <td>None</td>\n      <td>1.0</td>\n      <td>(Unknown Operator)</td>\n      <td>False</td>\n      <td>False</td>\n      <td>False</td>\n      <td>6.0</td>\n      <td>Private - For Staff, Visitors or Customers</td>\n      <td>True</td>\n      <td>True</td>\n      <td>50</td>\n      <td>Operational</td>\n      <td>True</td>\n      <td>200</td>\n      <td>Submission Published</td>\n      <td>189175</td>\n      <td>Hendriksen Accountants</td>\n      <td>Haarweg 3</td>\n      <td>None</td>\n      <td>Tubbergen</td>\n      <td>None</td>\n      <td>7651 KE</td>\n      <td>159</td>\n      <td>NL</td>\n      <td>EU</td>\n      <td>159</td>\n      <td>Netherlands</td>\n      <td>52.399358</td>\n      <td>6.783781</td>\n      <td>None</td>\n      <td>None</td>\n      <td>None</td>\n      <td>None</td>\n      <td>None</td>\n      <td>None</td>\n      <td>0</td>\n      <td>NaN</td>\n      <td>NaN</td>\n    </tr>\n  </tbody>\n</table>\n</div>"
     },
     "metadata": {},
     "output_type": "display_data"
    }
   ],
   "source": [
    "df_ocm = pd.json_normalize(req_ocm.json())\n",
    "pd.set_option(\"max_columns\", None) # show all cols\n",
    "pd.set_option('max_colwidth', None) # show full width of showing cols\n",
    "pd.set_option(\"expand_frame_repr\", False) # print cols side by side as it's supposed to be\n",
    "display(df_ocm.head())"
   ],
   "metadata": {
    "collapsed": false,
    "pycharm": {
     "name": "#%%\n"
    }
   }
  },
  {
   "cell_type": "markdown",
   "source": [
    "#### Connections kolom is verbeterd"
   ],
   "metadata": {
    "collapsed": false,
    "pycharm": {
     "name": "#%% md\n"
    }
   }
  },
  {
   "cell_type": "code",
   "execution_count": 164,
   "outputs": [
    {
     "data": {
      "text/plain": "0           ID  ConnectionTypeID Reference  StatusTypeID LevelID Level  Amps Voltage PowerKW  CurrentTypeID  Quantity Comments     ConnectionType.FormalName ConnectionType.IsDiscontinued ConnectionType.IsObsolete  ConnectionType.ID ConnectionType.Title  StatusType.IsOperational  StatusType.IsUserSelectable  StatusType.ID StatusType.Title CurrentType.Description  CurrentType.ID CurrentType.Title  CurrentType\n0  306581                 2      None            50    None  None  None    None    None           30.0         1     None  IEC 62196-3 Configuration AA                          None                      None                  2              CHAdeMO                      True                         True             50      Operational          Direct Current            30.0                DC          NaN\n1  306582                33      None            50    None  None  None    None    None            NaN         1     None  IEC 62196-3 Configuration FF                         False                     False                 33         CCS (Type 2)                      True                         True             50      Operational                     NaN             NaN               NaN          NaN\n1                                                                                                                                                                                                   ID  ConnectionTypeID       Reference  StatusTypeID  LevelID  Amps  Voltage  PowerKW  CurrentTypeID  Quantity Comments ConnectionType.FormalName  ConnectionType.IsDiscontinued  ConnectionType.IsObsolete  ConnectionType.ID  ConnectionType.Title  StatusType.IsOperational  StatusType.IsUserSelectable  StatusType.ID StatusType.Title                               Level.Comments  Level.IsFastChargeCapable  Level.ID                  Level.Title            CurrentType.Description  CurrentType.ID CurrentType.Title\n0  305875                25  NLALLEGO011633            50        2    16      400     11.0             20         2     None        IEC 62196-2 Type 2                          False                      False                 25  Type 2 (Socket Only)                      True                         True             50      Operational  Over 2 kW, usually non-domestic socket type                      False         2  Level 2 : Medium (Over 2kW)  Alternating Current - Three Phase              20  AC (Three-Phase)\n2                                                                                                                                                                                                                                                                                                                                                                                                                                                                                                                                                           ID  ConnectionTypeID Reference  StatusTypeID LevelID Level  Amps Voltage PowerKW CurrentTypeID CurrentType  Quantity Comments ConnectionType.FormalName  ConnectionType.IsDiscontinued  ConnectionType.IsObsolete  ConnectionType.ID  ConnectionType.Title  StatusType.IsOperational  StatusType.IsUserSelectable  StatusType.ID StatusType.Title\n0  305711                25      None            50    None  None  None    None    None          None        None         1     None        IEC 62196-2 Type 2                          False                      False                 25  Type 2 (Socket Only)                      True                         True             50      Operational\n3                                                                                                                                                                                                               ID  ConnectionTypeID Reference  StatusTypeID  LevelID  Amps  Voltage  PowerKW  CurrentTypeID  Quantity Comments ConnectionType.FormalName  ConnectionType.IsDiscontinued  ConnectionType.IsObsolete  ConnectionType.ID  ConnectionType.Title  StatusType.IsOperational  StatusType.IsUserSelectable  StatusType.ID StatusType.Title                               Level.Comments  Level.IsFastChargeCapable  Level.ID                  Level.Title            CurrentType.Description  CurrentType.ID CurrentType.Title\n0  305075                25      None            50        2    16      400     11.0             20         2     None        IEC 62196-2 Type 2                          False                      False                 25  Type 2 (Socket Only)                      True                         True             50      Operational  Over 2 kW, usually non-domestic socket type                      False         2  Level 2 : Medium (Over 2kW)  Alternating Current - Three Phase              20  AC (Three-Phase)\n4                                                                                                                                                                                                                 ID  ConnectionTypeID Reference  StatusTypeID  LevelID  Amps Voltage  PowerKW  CurrentTypeID  Quantity Comments ConnectionType.FormalName  ConnectionType.IsDiscontinued  ConnectionType.IsObsolete  ConnectionType.ID  ConnectionType.Title  StatusType.IsOperational  StatusType.IsUserSelectable  StatusType.ID StatusType.Title                               Level.Comments  Level.IsFastChargeCapable  Level.ID                  Level.Title            CurrentType.Description  CurrentType.ID CurrentType.Title\n0  305074                25      None            50        2  None    None     11.0             20         2     None        IEC 62196-2 Type 2                          False                      False                 25  Type 2 (Socket Only)                      True                         True             50      Operational  Over 2 kW, usually non-domestic socket type                      False         2  Level 2 : Medium (Over 2kW)  Alternating Current - Three Phase              20  AC (Three-Phase)\nName: Connections, dtype: object"
     },
     "metadata": {},
     "output_type": "display_data"
    }
   ],
   "source": [
    "df_ocm['Connections'] = df_ocm.apply(lambda row: pd.json_normalize(row['Connections']), axis=1)\n",
    "display(df_ocm['Connections'].head())"
   ],
   "metadata": {
    "collapsed": false,
    "pycharm": {
     "name": "#%%\n"
    }
   }
  },
  {
   "cell_type": "markdown",
   "source": [
    "### Open Charge Map kolommen"
   ],
   "metadata": {
    "collapsed": false
   }
  },
  {
   "cell_type": "code",
   "execution_count": 165,
   "outputs": [
    {
     "data": {
      "text/plain": "Index(['UserComments', 'PercentageSimilarity', 'MediaItems',\n       'IsRecentlyVerified', 'DateLastVerified', 'ID', 'UUID',\n       'ParentChargePointID', 'DataProviderID', 'DataProvidersReference',\n       'OperatorID', 'OperatorsReference', 'UsageTypeID', 'UsageCost',\n       'Connections', 'NumberOfPoints', 'GeneralComments', 'DatePlanned',\n       'DateLastConfirmed', 'StatusTypeID', 'DateLastStatusUpdate',\n       'MetadataValues', 'DataQualityLevel', 'DateCreated',\n       'SubmissionStatusTypeID', 'DataProvider.WebsiteURL',\n       'DataProvider.Comments',\n       'DataProvider.DataProviderStatusType.IsProviderEnabled',\n       'DataProvider.DataProviderStatusType.ID',\n       'DataProvider.DataProviderStatusType.Title',\n       'DataProvider.IsRestrictedEdit', 'DataProvider.IsOpenDataLicensed',\n       'DataProvider.IsApprovedImport', 'DataProvider.License',\n       'DataProvider.DateLastImported', 'DataProvider.ID',\n       'DataProvider.Title', 'OperatorInfo.WebsiteURL',\n       'OperatorInfo.Comments', 'OperatorInfo.PhonePrimaryContact',\n       'OperatorInfo.PhoneSecondaryContact',\n       'OperatorInfo.IsPrivateIndividual', 'OperatorInfo.AddressInfo',\n       'OperatorInfo.BookingURL', 'OperatorInfo.ContactEmail',\n       'OperatorInfo.FaultReportEmail', 'OperatorInfo.IsRestrictedEdit',\n       'OperatorInfo.ID', 'OperatorInfo.Title', 'UsageType.IsPayAtLocation',\n       'UsageType.IsMembershipRequired', 'UsageType.IsAccessKeyRequired',\n       'UsageType.ID', 'UsageType.Title', 'StatusType.IsOperational',\n       'StatusType.IsUserSelectable', 'StatusType.ID', 'StatusType.Title',\n       'SubmissionStatus.IsLive', 'SubmissionStatus.ID',\n       'SubmissionStatus.Title', 'AddressInfo.ID', 'AddressInfo.Title',\n       'AddressInfo.AddressLine1', 'AddressInfo.AddressLine2',\n       'AddressInfo.Town', 'AddressInfo.StateOrProvince',\n       'AddressInfo.Postcode', 'AddressInfo.CountryID',\n       'AddressInfo.Country.ISOCode', 'AddressInfo.Country.ContinentCode',\n       'AddressInfo.Country.ID', 'AddressInfo.Country.Title',\n       'AddressInfo.Latitude', 'AddressInfo.Longitude',\n       'AddressInfo.ContactTelephone1', 'AddressInfo.ContactTelephone2',\n       'AddressInfo.ContactEmail', 'AddressInfo.AccessComments',\n       'AddressInfo.RelatedURL', 'AddressInfo.Distance',\n       'AddressInfo.DistanceUnit', 'OperatorInfo', 'UsageType'],\n      dtype='object')"
     },
     "execution_count": 165,
     "metadata": {},
     "output_type": "execute_result"
    }
   ],
   "source": [
    "df_ocm.columns"
   ],
   "metadata": {
    "collapsed": false,
    "pycharm": {
     "name": "#%%\n"
    }
   }
  },
  {
   "cell_type": "markdown",
   "source": [
    "### Aantal laadpunten per provincie"
   ],
   "metadata": {
    "collapsed": false
   }
  },
  {
   "cell_type": "code",
   "execution_count": 166,
   "outputs": [
    {
     "data": {
      "text/plain": "AddressInfo.StateOrProvince\n                                        184.0\n                                          1.0\nDrente                                    4.0\nDrenthe                                   7.0\nFRL                                       2.0\nFlevolaan                                 2.0\nFlevoland                                25.0\nFriesland                                11.0\nGLD                                       2.0\nGelderland                               35.0\nGelderland                                2.0\nGroningen                                15.0\nHolandia Północna                         4.0\nLimburg                                  34.0\nMRDH                                      3.0\nNH                                       47.0\nNoord Brabant                             2.0\nNoord Brabant                             2.0\nNoord Holand                              4.0\nNoord Holland                            32.0\nNoord-Brabant                            90.0\nNoord-Holland                            54.0\nNoord-Hooland                             2.0\nNordbrabant                              10.0\nNordholland                               4.0\nNorth Brabant                            27.0\nNorth Holland                            21.0\nNorth-Holland                            10.0\nOverijsel                                 1.0\nOverijssel                               33.0\nRegio Twente                              2.0\nRegio Zwolle                              8.0\nSamenwerkingsverband Regio Eindhoven      1.0\nSeeland                                   4.0\nSouth Holland                            12.0\nStadsgewest Haaglanden                   11.0\nStadsregio Amsterdam                      8.0\nStadsregio Arnhem Nijmegen                2.0\nStadsregio Rotterdam                      2.0\nStellendam                                1.0\nUT                                       12.0\nUTRECHT                                   1.0\nUtrecht                                  30.0\nZH                                       35.0\nZeeland                                  92.0\nZuid Holland                              8.0\nZuid-Holland                             45.0\nZuid-Holland                              2.0\nName: NumberOfPoints, dtype: float64"
     },
     "execution_count": 166,
     "metadata": {},
     "output_type": "execute_result"
    }
   ],
   "source": [
    "df_ocm.groupby('AddressInfo.StateOrProvince')['NumberOfPoints'].sum()"
   ],
   "metadata": {
    "collapsed": false,
    "pycharm": {
     "name": "#%%\n"
    }
   }
  },
  {
   "cell_type": "markdown",
   "source": [
    "#### Schoongemaakte aantal laadpunten per provincie"
   ],
   "metadata": {
    "collapsed": false
   }
  },
  {
   "cell_type": "code",
   "execution_count": 175,
   "outputs": [
    {
     "name": "stdout",
     "output_type": "stream",
     "text": [
      "<pandas.core.groupby.generic.DataFrameGroupBy object at 0x000001EF071FF250>\n"
     ]
    }
   ],
   "source": [
    "# Krijg de correct geschreven provincie naam op basis van FuzzyWuzzy\n",
    "def get_correct_province_name(name):\n",
    "    if name is None: return None\n",
    "\n",
    "    highest_score = 0\n",
    "    highest_score_name = name\n",
    "    for province in df_gp['PROVINCIENAAM'].unique():\n",
    "        ratio = fuzz.WRatio(name, province)\n",
    "        if ratio > highest_score:\n",
    "            highest_score = ratio\n",
    "            highest_score_name = province\n",
    "\n",
    "    if highest_score >= 70: return highest_score_name\n",
    "    else: return None\n",
    "\n",
    "df_ocm['cleaned.province'] = df_ocm['AddressInfo.StateOrProvince'].apply(lambda name: get_correct_province_name(name))\n",
    "# print(df_ocm[['AddressInfo.StateOrProvince', 'cleaned.province']])"
   ],
   "metadata": {
    "collapsed": false,
    "pycharm": {
     "name": "#%%\n"
    }
   }
  },
  {
   "cell_type": "code",
   "execution_count": 181,
   "outputs": [
    {
     "name": "stdout",
     "output_type": "stream",
     "text": [
      "NaN                                     7421\n",
      "                                          66\n",
      "Zeeland                                   39\n",
      "Noord Holland                             28\n",
      "Flevoland                                 21\n",
      "Zuid-Holland                              19\n",
      "Noord-Brabant                             19\n",
      "Utrecht                                   18\n",
      "Gelderland                                18\n",
      "Noord-Holland                             17\n",
      "North Brabant                             11\n",
      "Stadsgewest Haaglanden                    11\n",
      "Groningen                                 10\n",
      "Limburg                                    8\n",
      "South Holland                              8\n",
      "North Holland                              7\n",
      "Overijssel                                 6\n",
      "Drenthe                                    5\n",
      "NH                                         5\n",
      "Friesland                                  5\n",
      "ZH                                         4\n",
      "Zuid Holland                               4\n",
      "Stadsregio Amsterdam                       3\n",
      "Nordholland                                2\n",
      "MRDH                                       2\n",
      "Flevolaan                                  2\n",
      "Nordbrabant                                2\n",
      "Samenwerkingsverband Regio Eindhoven       1\n",
      "Stadsregio Rotterdam                       1\n",
      "Gelderland                                 1\n",
      "                                           1\n",
      "Noord Brabant                              1\n",
      "Noord-Hooland                              1\n",
      "GLD                                        1\n",
      "Regio Twente                               1\n",
      "Stellendam                                 1\n",
      "UTRECHT                                    1\n",
      "Regio Zwolle                               1\n",
      "Drente                                     1\n",
      "Stadsregio Arnhem Nijmegen                 1\n",
      "Noord Brabant                              1\n",
      "Noord Holand                               1\n",
      "FRL                                        1\n",
      "Seeland                                    1\n",
      "Holandia Północna                          1\n",
      "Zuid-Holland                               1\n",
      "UT                                         1\n",
      "North-Holland                              1\n",
      "Overijsel                                  1\n",
      "Name: AddressInfo.StateOrProvince, dtype: int64 NaN              7522\n",
      "Noord-Holland      57\n",
      "Zeeland            40\n",
      "Noord-Brabant      34\n",
      "Zuid-Holland       32\n",
      "Flevoland          23\n",
      "Utrecht            20\n",
      "Gelderland         19\n",
      "Groningen          10\n",
      "Limburg             8\n",
      "Overijssel          7\n",
      "Drenthe             6\n",
      "Friesland           5\n",
      "Name: cleaned.province, dtype: int64\n"
     ]
    }
   ],
   "source": [
    "print(df_ocm['AddressInfo.StateOrProvince'].value_counts(dropna=False))\n",
    "print(df_ocm['cleaned.province'].value_counts(dropna=False))"
   ],
   "metadata": {
    "collapsed": false,
    "pycharm": {
     "name": "#%%\n"
    }
   }
  },
  {
   "cell_type": "markdown",
   "source": [
    "### Aantal laadpunten per gemeente"
   ],
   "metadata": {
    "collapsed": false,
    "pycharm": {
     "name": "#%% md\n"
    }
   }
  },
  {
   "cell_type": "code",
   "execution_count": 168,
   "outputs": [
    {
     "data": {
      "text/plain": "AddressInfo.Town\n                                     4.0\n Laren                               1.0\n Leeuwarden                          2.0\n Leiderdorp                          3.0\n Made                                2.0\n's Hertogenbosch                    36.0\n's-Heerenberg                        1.0\n's-Hertogenbosch                   162.0\n't Harde                             1.0\nAPELDOORN                            2.0\nAa en Hunze                          4.0\nAalburg                              4.0\nAalsmeer                            25.0\nAalten                               7.0\nAbbekerk                             4.0\nAchtkarspelen                        8.0\nAkersloot                            9.0\nAlblasserdam                        14.0\nAlbrandswaard                       31.0\nAlkmaar                             64.0\nAlmelo                              23.0\nAlmere                             113.0\nAlmere Stad                          2.0\nAlmere- Stad                         2.0\nAlphen aan de Rijn                   1.0\nAlphen aan den Rijn                 87.0\nAlphen-Chaam                         2.0\nAmeland                              4.0\nAmersfoort                         105.0\nAmersfoort                           1.0\nAmstelveen                          64.0\nAmsterdam                          507.0\nAmsterdam Zuidoost                  21.0\nApeldoorn                          106.0\nAppingedam                           5.0\nArnhem                             130.0\nArnhem                               2.0\nAssen                               44.0\nAsten                                6.0\nBaarland                             1.0\nBaarle-Nassau                        2.0\nBaarn                               14.0\nBadhoevedorp                        32.0\nBadhoevedorp                         1.0\nBalk                                 1.0\nBant                                 4.0\nBarendrecht                         54.0\nBarneveld                           36.0\nBedum                                3.0\nBeek                                 4.0\nBeekbergen                           1.0\nBeemster                             4.0\nBeesd                                3.0\nBeesel                               3.0\nBeesterzwaag                         2.0\nBellingwedde                         2.0\nBerg en Dal                          1.0\nBergeijk                             6.0\nBergen                               5.0\nBergen (NH)                         30.0\nBergen op Zoom                      58.0\nBergschenhoek                        1.0\nBerkelland                          16.0\nBernheze                            23.0\nBest                                25.0\nBeugen                               4.0\nBeuningen                           16.0\nBeverwijk                           17.0\nBinnenmaas                          33.0\nBladel                               9.0\nBlaricum                             6.0\nBloemendaal                         16.0\nBodegraven                           5.0\nBodegraven-Reeuwijk                 16.0\nBoekel                               7.0\nBorger-Odoorn                        3.0\nBorne                                8.0\nBorsele                              7.0\nBosch en Duin                        2.0\nBoskoop                              4.0\nBoxmeer                              8.0\nBoxtel                              23.0\nBreda                              165.0\nBreukelen                           32.0\nBrielle                             17.0\nBronckhorst                         14.0\nBrouwershaven                        2.0\nBruchem                              1.0\nBrummen                              9.0\nBrunssum                             9.0\nBunnik                              61.0\nBunschoten                           6.0\nBuren                               17.0\nBurgh-Haamstede                      1.0\nBussum                              23.0\nCadzand-Bad                          2.0\nCapelle aan den IJssel              44.0\nCastricum                           18.0\nCoevorden                            9.0\nCranendonck                         11.0\nCromstrijen                          5.0\nCuijk                               17.0\nCulemborg                           19.0\nDalfsen                             10.0\nDantumadiel                          3.0\nDe Bilt                             32.0\nDe Friese Meren                      1.0\nDe Fryske Marren                    22.0\nDe Koog                              1.0\nDe Lutte                             2.0\nDe Marne                             4.0\nDe Meern                             2.0\nDe Ronde Venen                      39.0\nDe Wolden                            6.0\nDelden                               2.0\nDelfgauw                             5.0\nDelft                               87.0\nDelfzijl                            11.0\nDen Haag                           504.0\nDen Haag                             1.0\nDen Helder                          15.0\nDen haag                             2.0\nDeurne                              23.0\nDeurningen                           2.0\nDeventer                            43.0\nDidam                                2.0\nDiemen                              13.0\nDiepenheim                           2.0\nDiever                               2.0\nDinkelland                           7.0\nDoenrade                             2.0\nDoesburg                             8.0\nDoetinchem                          25.0\nDongen                              12.0\nDongeradeel                          6.0\nDoorn                                1.0\nDordrecht                          109.0\nDrachten                            18.0\nDrachten                             2.0\nDrechterland                         2.0\nDrimmelen                           14.0\nDronten                             15.0\nDruten                               5.0\nDuiven                              29.0\nDuivendrecht                        45.0\nDuizel                               1.0\nEcht-Susteren                        8.0\nEdam-Volendam                       15.0\nEde                                 68.0\nEemnes                              13.0\nEemsmond                             2.0\nEersel                              12.0\nEijsden                              2.0\nEijsden-Margraten                   12.0\nEindhoven                          188.0\nEindhoven                           18.0\nElburg                               6.0\nEll                                  1.0\nEmmeloord                           11.0\nEmmen                               16.0\nEnkhuizen                            3.0\nEnschede                            43.0\nEpe                                 12.0\nErichem                              2.0\nErmelo                              16.0\nErp                                  2.0\nEtten-Leur                          19.0\nFerwerderadiel                       7.0\nFranekeradeel                        3.0\nGeertruidenberg                     14.0\nGeldermalsen                        17.0\nGeldrop-Mierlo                      28.0\nGeleen                               2.0\nGellicum                             8.0\nGemert-Bakel                         8.0\nGenemuiden                           1.0\nGennep                               9.0\nGiessenlanden                       14.0\nGilze                                3.0\nGilze en Rijen                      16.0\nGoeree-Overflakkee                  41.0\nGoes                                51.0\nGoirle                              11.0\nGooise Meren                        12.0\nGorinchem                           36.0\nGouda                               52.0\nGoutum                               1.0\nGrave                                5.0\nGroede                               2.0\nGroesbeek                            3.0\nGroningen                           97.0\nGrootegast                           2.0\nGulpen                               2.0\nGulpen-Wittem                        7.0\nHUIS TER HEIDE UT                    2.0\nHaaksbergen                          4.0\nHaaren                               7.0\nHaarlem                             82.0\nHaarlemmerliede en Spaarnwoude       4.0\nHaarlemmermeer                     151.0\nHalderberge                         13.0\nHalfweg                              1.0\nHalsteren                            8.0\nHank                                 6.0\nHaps                                 2.0\nHardenberg                          24.0\nHarderwijk                          30.0\nHardinxveld-Giessendam               8.0\nHaren                                2.0\nHarlingen                            9.0\nHarmelen                             1.0\nHattem                               6.0\nHeemskerk                           17.0\nHeemstede                           19.0\nHeenvliet                            1.0\nHeerde                               8.0\nHeerenveen                          33.0\nHeerhugowaard                       38.0\nHeerlen                             24.0\nHeeze-Leende                        11.0\nHeiloo                              25.0\nHelden                               1.0\nHellendoorn                         13.0\nHellevoetsluis                      21.0\nHelmond                             48.0\nHendrik-Ido-Ambacht                 29.0\nHengelo                             35.0\nHerveld                              1.0\nHeumen                              10.0\nHeusden                             22.0\nHillegom                             4.0\nHilvarenbeek                         3.0\nHilversum                           38.0\nHilversumse Meent                    1.0\nHintham                              2.0\nHoenderloo                           1.0\nHof van Twente                       5.0\nHollands Kroon                      15.0\nHollum                               1.0\nHolten                               1.0\nHoofddorp                           21.0\nHoofdplaat                           5.0\nHoog Soeren                          2.0\nHoogeveen                           19.0\nHoogezand                            1.0\nHoogezand-Sappemeer                  1.0\nHoorn                               51.0\nHoorn-Terschelling                   2.0\nHorst                               13.0\nHorst aan de Maas                   16.0\nHouten                              48.0\nHuizen                              20.0\nHulst                                7.0\nIJmuiden                             2.0\nIJsselstein                         27.0\nIjzendijke                           2.0\nKaag en Braassem                    13.0\nKampen                              18.0\nKamperland                           2.0\nKamperzeedijk-Oost                   1.0\nKapelle                              4.0\nKatwijk                             43.0\nKatwoude                             4.0\nKerk Avezaath                        1.0\nKerkrade                             8.0\nKlarenbeek                           5.0\nKoggenland                           5.0\nKollumerland c.a.                    2.0\nKorendijk                            4.0\nKoudekerke                           2.0\nKraggenburg                          3.0\nKrimpen aan den IJssel              16.0\nKrimpenerwaard                      24.0\nKwadendamme                          1.0\nLaarbeek                             8.0\nLanderd                              6.0\nLandgraaf                           11.0\nLandsmeer                            1.0\nLangedijk                           14.0\nLansingerland                       33.0\nLaren                                6.0\nLattrop-Breklenkamp                  2.0\nLeek                                 5.0\nLeerdam                              3.0\nLeeuwarden                          48.0\nLeeuwarderadeel                      5.0\nLeiden                              80.0\nLeiderdorp                          31.0\nLeidschendam-Voorburg               16.0\nLeimuiden                            3.0\nLelystad                            90.0\nLelystad                             1.0\nLeudal                              16.0\nLeusden                             24.0\nLiempde                              1.0\nLingewaal                            6.0\nLingewaard                          13.0\nLisse                                8.0\nLittenseradiel                       5.0\nLochem                              15.0\nLommel                               1.0\nLoon op Zand                        22.0\nLopik                               17.0\nLoppersum                            3.0\nLosser                               4.0\nLuttelgeest                          1.0\nMRDH                                 3.0\nMaarssenbroek                        2.0\nMaasdonk                             1.0\nMaasdriel                            4.0\nMaasgouw                            11.0\nMaassluis                           14.0\nMaastricht                          49.0\nMalden                               2.0\nMarum                                3.0\nMechelen                             2.0\nMedemblik                            9.0\nMeerkerk                             1.0\nMeerssen                            10.0\nMenameradiel                         6.0\nMenterwolde                          1.0\nMeppel                              10.0\nMiddelburg                          25.0\nMidden-Delfland                     10.0\nMidden-Drenthe                      16.0\nMiddenbeemster                       4.0\nMidlum                               1.0\nMill en Sint Hubert                  2.0\nMoerdijk                            25.0\nMolenhoek                            1.0\nMolenwaard                          17.0\nMontferland                         12.0\nMontfoort                           16.0\nMook en Middelaar                    4.0\nMuiden                              18.0\nNaarden                             41.0\nNagele                               1.0\nNeder-Betuwe                        10.0\nNederweert                           8.0\nNeede                                1.0\nNeerijnen                            9.0\nNeuweiler                            1.0\nNieuwegein                          90.0\nNieuwerkerk a/d IJssel               1.0\nNieuwerkerk aan den IJssel          12.0\nNieuwkoop                           18.0\nNiftrik/Wijchen                      1.0\nNijkerk                             33.0\nNijmegen                            55.0\nNimega                               2.0\nNissewaard                          43.0\nNoord-Beveland                      21.0\nNoordbeemster                        2.0\nNoordenveld                         12.0\nNoordoostpolder                     19.0\nNoordwijk                            9.0\nNoordwijk aan Zee                    2.0\nNoordwijkerhout                     15.0\nNootdorp                             1.0\nNuenen c.a.                         15.0\nNumansdorp                           2.0\nNunspeet                            19.0\nNuth                                 4.0\nOegstgeest                          11.0\nOirlo                                1.0\nOirschot                            20.0\nOisterwijk                          12.0\nOldambt                              1.0\nOldebroek                           11.0\nOldeholtwolde                        2.0\nOldenzaal                            9.0\nOlst-Wijhe                           9.0\nOmmen                                8.0\nOnderdendam                          1.0\nOost Gelre                           5.0\nOosteinde                            1.0\nOosterhout                          49.0\nOostkapelle                          1.0\nOoststellingwerf                    11.0\nOostzaan                             3.0\nOpheusden                            8.0\nOpmeer                               2.0\nOpsterland                          12.0\nOss                                 44.0\nOud-Beijerland                      17.0\nOude IJsselstreek                   15.0\nOude Meer                            1.0\nOudega                               2.0\nOuder-Amstel                        30.0\nOudewater                            7.0\nOudleusen                            2.0\nOverberg                             1.0\nOverbetuwe                          17.0\nOverloon                             1.0\nPaasloo                              4.0\nPapendrecht                         39.0\nPeel en Maas                        12.0\nPekela                               2.0\nPesse                                1.0\nPijnacker-Nootdorp                  33.0\nPoeldijk                             1.0\nPurmerend                           17.0\nPutten                               9.0\nROTTERDAM                            2.0\nRaalte                               5.0\nRaamdonksveer                        1.0\nReimerswaal                         15.0\nRenkum                              13.0\nRenswoude                            5.0\nReusel-De Mierden                    3.0\nRheden                              16.0\nRhenen                              10.0\nRhoon                                5.0\nRidderkerk                          61.0\nRijen                               12.0\nRijnwaarden                          5.0\nRijsenhout                          11.0\nRijssen-Holten                      22.0\nRijswijk                            52.0\nRivierenbuurt                        1.0\nRoelofarendsveen                     6.0\nRoerdalen                            5.0\nRoermond                            85.0\nRogat                                8.0\nRoosendaal                          28.0\nRosmalen                            17.0\nRotterdam                          401.0\nRozendaal                            1.0\nRucphen                             13.0\nRustenburg/Oostbroek                 1.0\nRutten                               4.0\nSCHIPHOL                             2.0\nSassenheim                           3.0\nSchagen                             17.0\nScheemda                            10.0\nScherpenzeel                         5.0\nSchiedam                            37.0\nSchiermonnikoog                      1.0\nSchijndel                            3.0\nSchinnen                             7.0\nSchiphol                             1.0\nSchiphol-Rijk                        1.0\nSchiphol-Zuid                        1.0\nSchoorl                              1.0\nSchouwen-Duiveland                  34.0\nSevenum                              5.0\nSimpelveld                           4.0\nSint Anthonis                        2.0\nSint-Michielsgestel                 11.0\nSint-Oedenrode                       2.0\nSittard-Geleen                      38.0\nSliedrecht                          14.0\nSlochteren                           4.0\nSloten                               1.0\nSluis                               10.0\nSmallingerland                      20.0\nSoest                               27.0\nSomeren                              4.0\nSon                                  3.0\nSon en Breugel                      17.0\nSpaarndam                            1.0\nSpijkenisse                          2.0\nSt Philipsland                       2.0\nStadsgewest Haaglanden               1.0\nStadskanaal                         10.0\nStaphorst                            6.0\nStede Broec                          5.0\nSteenbergen                         13.0\nSteenwijkerland                     25.0\nStein                               10.0\nStichtse Vecht                      33.0\nStrijen                             10.0\nStroe                                3.0\nSúdwest-Fryslân                     36.0\nTegelen                              2.0\nTen Boer                             1.0\nTerneuzen                           18.0\nTerschelling                        29.0\nTerschuur                            5.0\nTerwispel                            8.0\nTexel                               44.0\nTeylingen                           22.0\nThe Hague                            3.0\nTholen                              27.0\nTiel                                34.0\nTienhoven                            4.0\nTilburg                            127.0\nTubbergen                            5.0\nTwenterand                          12.0\nTynaarlo                            10.0\nTytsjerksteradiel                   14.0\nUden                                30.0\nUgchelen                            12.0\nUitgeest                            10.0\nUithoorn                            11.0\nUrk                                  9.0\nUrmond                              21.0\nUtrecht                            299.0\nUtrecht                              2.0\nUtrechtse Heuvelrug                 37.0\nVaals                                2.0\nValkenburg aan de Geul               7.0\nValkenswaard                         6.0\nVeendam                              6.0\nVeenendaal                          44.0\nVeere                               36.0\nVeghel                              15.0\nVelden                               1.0\nVeldhoven                           15.0\nVelp                                 2.0\nVelsen                              40.0\nVenlo                               57.0\nVenray                              25.0\nVianen                              18.0\nVierlingsbeek                        1.0\nVierpolders                          8.0\nVilsteren                            1.0\nVlaardingen                         36.0\nVlagtwedde                           4.0\nVlieland                             2.0\nVlissingen                          13.0\nVoerendaal                           3.0\nVoorburg                            20.0\nVoorschoten                         11.0\nVoorst                              14.0\nVrouwenpolder                        1.0\nVught                               20.0\nVuren                               16.0\nWaalre                              14.0\nWaalwijk                            36.0\nWaddinxveen                         15.0\nWageningen                          28.0\nWassenaar                           21.0\nWaterland                            5.0\nWeert                               14.0\nWeesp                               32.0\nWemeldinge                           8.0\nWemeldinge (Gemeente Kapelle)        2.0\nWerkendam                           16.0\nWerkhoven                            2.0\nWest Maas en Waal                    9.0\nWesterbroek                          1.0\nWesterkwartier                       4.0\nWesterveld                           5.0\nWestervoort                          3.0\nWestkapelle ( gemeente Veere )       2.0\nWestland                            76.0\nWeststellingwerf                    11.0\nWestvoorne                          11.0\nWezep                                1.0\nWierden                              8.0\nWijchen                             24.0\nWijdemeren                          27.0\nWijk bij Duurstede                   8.0\nWilp                                 2.0\nWinsum                               4.0\nWinterswijk                          6.0\nWirdum                               2.0\nWoensdrecht                          7.0\nWoerden                             40.0\nWolvega                             74.0\nWormerland                          11.0\nWoudenberg                          11.0\nWoudrichem                           8.0\nZaanstad                            57.0\nZaltbommel                          33.0\nZandvoort                            6.0\nZederik                              7.0\nZeevang                              1.0\nZeewolde                             4.0\nZeist                               45.0\nZelhem                               1.0\nZevenaar                            33.0\nZevenbergschen Hoek                 12.0\nZevenhuizen                          2.0\nZierikzee                            6.0\nZoetermeer                          70.0\nZoeterwoude                         13.0\nZuidbroek                            9.0\nZuidhorn                             5.0\nZuidlaren                            2.0\nZuidlaren                            2.0\nZuidplas                            10.0\nZundert                              9.0\nZurich                               1.0\nZutphen                             40.0\nZwaag                                2.0\nZwartewaterland                      9.0\nZwijndrecht                         19.0\nZwolle                             106.0\nhet Bildt                            2.0\ns-Heer Hendrikskinderen              2.0\ns-Hertogenbosch                      2.0\nweesp                                1.0\nzaandam                              2.0\nzoetermeer                           4.0\nName: NumberOfPoints, dtype: float64"
     },
     "execution_count": 168,
     "metadata": {},
     "output_type": "execute_result"
    }
   ],
   "source": [
    "df_ocm.groupby('AddressInfo.Town')['NumberOfPoints'].sum()"
   ],
   "metadata": {
    "collapsed": false,
    "pycharm": {
     "name": "#%%\n"
    }
   }
  },
  {
   "cell_type": "markdown",
   "source": [
    "### Type laadpalen"
   ],
   "metadata": {
    "collapsed": false
   }
  },
  {
   "cell_type": "code",
   "execution_count": 169,
   "outputs": [
    {
     "data": {
      "text/plain": "                type  count\n0  AC (Single-Phase)  11098\n1   AC (Three-Phase)    460\n2                 DC    422\n3                nan    415",
      "text/html": "<div>\n<style scoped>\n    .dataframe tbody tr th:only-of-type {\n        vertical-align: middle;\n    }\n\n    .dataframe tbody tr th {\n        vertical-align: top;\n    }\n\n    .dataframe thead th {\n        text-align: right;\n    }\n</style>\n<table border=\"1\" class=\"dataframe\">\n  <thead>\n    <tr style=\"text-align: right;\">\n      <th></th>\n      <th>type</th>\n      <th>count</th>\n    </tr>\n  </thead>\n  <tbody>\n    <tr>\n      <th>0</th>\n      <td>AC (Single-Phase)</td>\n      <td>11098</td>\n    </tr>\n    <tr>\n      <th>1</th>\n      <td>AC (Three-Phase)</td>\n      <td>460</td>\n    </tr>\n    <tr>\n      <th>2</th>\n      <td>DC</td>\n      <td>422</td>\n    </tr>\n    <tr>\n      <th>3</th>\n      <td>nan</td>\n      <td>415</td>\n    </tr>\n  </tbody>\n</table>\n</div>"
     },
     "execution_count": 169,
     "metadata": {},
     "output_type": "execute_result"
    }
   ],
   "source": [
    "types = []\n",
    "for con in df_ocm['Connections']:\n",
    "    if 'CurrentType.Title' in con.columns:\n",
    "        for title in con['CurrentType.Title']:\n",
    "            types.append(title)\n",
    "    else:\n",
    "        types.append(np.nan)\n",
    "\n",
    "unique, counts = np.unique(types, return_counts=True)\n",
    "\n",
    "df_types = pd.DataFrame()\n",
    "df_types['type'] = unique\n",
    "df_types['count'] = counts\n",
    "df_types.head()"
   ],
   "metadata": {
    "collapsed": false,
    "pycharm": {
     "name": "#%%\n"
    }
   }
  },
  {
   "cell_type": "markdown",
   "source": [
    "### Zijn tarieven transparant?\n",
    "\n",
    "- De meeste laadpalen zijn vaag met de specifieke tarieven\n",
    "- De specificeerde tarieven zijn inconsistent met de andere laadpalen"
   ],
   "metadata": {
    "collapsed": false,
    "pycharm": {
     "name": "#%% md\n"
    }
   }
  },
  {
   "cell_type": "code",
   "execution_count": 170,
   "outputs": [
    {
     "data": {
      "text/plain": "0.00 jaarabonnement                                                  6618\n0.00 afhankelijk van pas                                              343\n0.00 gratis                                                           187\nFree                                                                   84\n€0.25/kWh; andere tarieven voor oudere auto's                          31\n0.00 onbekend                                                          19\n                                                                       19\n0.00 per kWh                                                           15\n0.00 per laadbeurt                                                      8\n0                                                                       5\n0,69 eur/kWh                                                            4\n€0.34/kWh                                                               3\n0.3388                                                                  3\n€0,25/kWh                                                               3\nUnknown                                                                 3\nfree                                                                    3\n0.34                                                                    3\n€0,34/kWh                                                               3\nPaid                                                                    2\n0,00                                                                    2\n0.00                                                                    2\n0.00 eenmalig                                                           2\n0,37 €/ kWh                                                             2\ngratis                                                                  2\n0.00EUR                                                                 2\ne-laad card required                                                    2\n0.30                                                                    2\n€0,30/kWh                                                               2\n€ 2,- or € 3,-                                                          1\n0,59 per kWh                                                            1\n0.79 per kWh                                                            1\n€0,29/kWh                                                               1\nRFID card                                                               1\n0.29 € /kWh                                                             1\n€0,37/kWh                                                               1\n-                                                                       1\n€ 0.30/kWh                                                              1\nDependent upon membership                                               1\nGebruik laadpas van iedere nederlandse aanbieder                        1\ngebruik van laadpas van iedere nederlandse aanbieder                    1\n€2,40 starting fee, after that €0,30/kWh                                1\nAll major Dutch charge cards (Elaad, EV-Box, Nuon, Essent etc)          1\nOnly during opening hours of the Ikea store                             1\nVele manieren                                                           1\n0,25 € / kWh                                                            1\n0.83 per kWh / Basic Plan in 2015                                       1\nSee http://www.thenewmotion.com                                         1\n0.00                                                                    1\n0.34 / kWh                                                              1\n€ 0,29 per kWh                                                          1\n0,79 eur/kWh                                                            1\n0,79 EUR/kWh (w/o contract) - 0,35 EUR/kWh or free with contract.       1\n0.59 per kWh - Basic plan                                               1\n6.00 per laadbeurt                                                      1\n0.25                                                                    1\nGratis                                                                  1\n€0.32/kWh                                                               1\nstandard Dutch electricity, about 30 ct/KWh                             1\nVolume (/kWh)\\t€ 0.34                                                   1\n0,34€/kWh                                                               1\nAprox. 8 euro per charging session. Depending on provider.              1\n€ 0,391/kWh                                                             1\n€0,31                                                                   1\n€0,36/kWh                                                               1\n€0.33/kWh                                                               1\nDC: €0,70/kWh AC: €0,34/kWh                                             1\n€0,35 per kWh                                                           1\n€0,22/kWh; andere tarieven beschikbaar                                  1\n0,29 Euro/ kWh (incl BTW)                                               1\nEuro 0.55 kwh                                                           1\n€0,33/kWh                                                               1\n€ 0,30 kWh                                                              1\nPaod                                                                    1\nEUR 0,79/kWh                                                            1\nEV box rates                                                            1\n0,35                                                                    1\n0,32                                                                    1\n0.25 / kWh                                                              1\n€0.39/kWh                                                               1\n0,30                                                                    1\n0.20 ct / kWh                                                           1\nfree at the bicycle chargeplace                                         1\nstart € 2,25 + € 0,30/minute                                            1\n2€ / 10 KW                                                              1\n€0,28 - €0,30 per kW/h                                                  1\n30ct / kwH                                                              1\n8EUR per 6 hours                                                        1\n€ 0,34 kWh                                                              1\nunknown                                                                 1\n4€/10minutes                 Pre-paid card or cash                      1\nName: UsageCost, dtype: int64"
     },
     "execution_count": 170,
     "metadata": {},
     "output_type": "execute_result"
    }
   ],
   "source": [
    "df_ocm['UsageCost'].value_counts()"
   ],
   "metadata": {
    "collapsed": false,
    "pycharm": {
     "name": "#%%\n"
    }
   }
  }
 ],
 "metadata": {
  "kernelspec": {
   "name": "pycharm-396adbfd",
   "language": "python",
   "display_name": "PyCharm (laadpalen)"
  },
  "language_info": {
   "codemirror_mode": {
    "name": "ipython",
    "version": 2
   },
   "file_extension": ".py",
   "mimetype": "text/x-python",
   "name": "python",
   "nbconvert_exporter": "python",
   "pygments_lexer": "ipython2",
   "version": "2.7.6"
  }
 },
 "nbformat": 4,
 "nbformat_minor": 0
}